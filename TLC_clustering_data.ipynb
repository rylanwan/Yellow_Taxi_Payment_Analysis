{
 "cells": [
  {
   "cell_type": "code",
   "execution_count": 0,
   "metadata": {
    "colab": {},
    "colab_type": "code",
    "id": "Kf2LKbvtK8o8"
   },
   "outputs": [],
   "source": [
    "import pandas as pd"
   ]
  },
  {
   "cell_type": "code",
   "execution_count": 0,
   "metadata": {
    "colab": {},
    "colab_type": "code",
    "id": "A4UajNh0K-Dj"
   },
   "outputs": [],
   "source": [
    "july_df = pd.read_csv('https://s3.amazonaws.com/nyc-tlc/trip+data/yellow_tripdata_2017-01.csv')"
   ]
  },
  {
   "cell_type": "code",
   "execution_count": 0,
   "metadata": {
    "colab": {},
    "colab_type": "code",
    "id": "X_5pz2VrLDdZ"
   },
   "outputs": [],
   "source": [
    "aug_df = pd.read_csv('https://s3.amazonaws.com/nyc-tlc/trip+data/yellow_tripdata_2018-08.csv')"
   ]
  },
  {
   "cell_type": "code",
   "execution_count": 0,
   "metadata": {
    "colab": {},
    "colab_type": "code",
    "id": "rYpJFhO-LIr4"
   },
   "outputs": [],
   "source": [
    "df = pd.concat([july_df,aug_df],ignore_index=True)"
   ]
  },
  {
   "cell_type": "code",
   "execution_count": 0,
   "metadata": {
    "colab": {
     "base_uri": "https://localhost:8080/",
     "height": 34
    },
    "colab_type": "code",
    "id": "QRHADNwfLqhG",
    "outputId": "88595124-711c-4184-f462-6a172c996a9d"
   },
   "outputs": [
    {
     "data": {
      "text/plain": [
       "(15698882, 17)"
      ]
     },
     "execution_count": 5,
     "metadata": {
      "tags": []
     },
     "output_type": "execute_result"
    }
   ],
   "source": [
    "df.shape"
   ]
  },
  {
   "cell_type": "code",
   "execution_count": 0,
   "metadata": {
    "colab": {
     "base_uri": "https://localhost:8080/",
     "height": 224
    },
    "colab_type": "code",
    "id": "DAU7HPI2Lt3-",
    "outputId": "4e328a21-e468-4627-8b97-f82cc73023dc"
   },
   "outputs": [
    {
     "data": {
      "text/html": [
       "<div>\n",
       "<style scoped>\n",
       "    .dataframe tbody tr th:only-of-type {\n",
       "        vertical-align: middle;\n",
       "    }\n",
       "\n",
       "    .dataframe tbody tr th {\n",
       "        vertical-align: top;\n",
       "    }\n",
       "\n",
       "    .dataframe thead th {\n",
       "        text-align: right;\n",
       "    }\n",
       "</style>\n",
       "<table border=\"1\" class=\"dataframe\">\n",
       "  <thead>\n",
       "    <tr style=\"text-align: right;\">\n",
       "      <th></th>\n",
       "      <th>VendorID</th>\n",
       "      <th>tpep_pickup_datetime</th>\n",
       "      <th>tpep_dropoff_datetime</th>\n",
       "      <th>passenger_count</th>\n",
       "      <th>trip_distance</th>\n",
       "      <th>RatecodeID</th>\n",
       "      <th>store_and_fwd_flag</th>\n",
       "      <th>PULocationID</th>\n",
       "      <th>DOLocationID</th>\n",
       "      <th>payment_type</th>\n",
       "      <th>fare_amount</th>\n",
       "      <th>extra</th>\n",
       "      <th>mta_tax</th>\n",
       "      <th>tip_amount</th>\n",
       "      <th>tolls_amount</th>\n",
       "      <th>improvement_surcharge</th>\n",
       "      <th>total_amount</th>\n",
       "    </tr>\n",
       "  </thead>\n",
       "  <tbody>\n",
       "    <tr>\n",
       "      <th>0</th>\n",
       "      <td>1</td>\n",
       "      <td>2018-07-01 00:28:09</td>\n",
       "      <td>2018-07-01 00:28:51</td>\n",
       "      <td>1</td>\n",
       "      <td>5.3</td>\n",
       "      <td>1</td>\n",
       "      <td>N</td>\n",
       "      <td>145</td>\n",
       "      <td>145</td>\n",
       "      <td>2</td>\n",
       "      <td>2.5</td>\n",
       "      <td>0.5</td>\n",
       "      <td>0.5</td>\n",
       "      <td>0.00</td>\n",
       "      <td>0.0</td>\n",
       "      <td>0.3</td>\n",
       "      <td>3.80</td>\n",
       "    </tr>\n",
       "    <tr>\n",
       "      <th>1</th>\n",
       "      <td>1</td>\n",
       "      <td>2018-07-01 00:29:27</td>\n",
       "      <td>2018-07-01 00:30:17</td>\n",
       "      <td>1</td>\n",
       "      <td>5.3</td>\n",
       "      <td>1</td>\n",
       "      <td>N</td>\n",
       "      <td>145</td>\n",
       "      <td>145</td>\n",
       "      <td>2</td>\n",
       "      <td>2.5</td>\n",
       "      <td>0.5</td>\n",
       "      <td>0.5</td>\n",
       "      <td>0.00</td>\n",
       "      <td>0.0</td>\n",
       "      <td>0.3</td>\n",
       "      <td>3.80</td>\n",
       "    </tr>\n",
       "    <tr>\n",
       "      <th>2</th>\n",
       "      <td>1</td>\n",
       "      <td>2018-07-01 00:04:19</td>\n",
       "      <td>2018-07-01 00:08:29</td>\n",
       "      <td>2</td>\n",
       "      <td>0.7</td>\n",
       "      <td>1</td>\n",
       "      <td>N</td>\n",
       "      <td>211</td>\n",
       "      <td>144</td>\n",
       "      <td>1</td>\n",
       "      <td>5.0</td>\n",
       "      <td>0.5</td>\n",
       "      <td>0.5</td>\n",
       "      <td>1.25</td>\n",
       "      <td>0.0</td>\n",
       "      <td>0.3</td>\n",
       "      <td>7.55</td>\n",
       "    </tr>\n",
       "    <tr>\n",
       "      <th>3</th>\n",
       "      <td>1</td>\n",
       "      <td>2018-07-01 00:14:26</td>\n",
       "      <td>2018-07-01 00:36:35</td>\n",
       "      <td>1</td>\n",
       "      <td>4.8</td>\n",
       "      <td>1</td>\n",
       "      <td>N</td>\n",
       "      <td>144</td>\n",
       "      <td>142</td>\n",
       "      <td>1</td>\n",
       "      <td>18.0</td>\n",
       "      <td>0.5</td>\n",
       "      <td>0.5</td>\n",
       "      <td>1.00</td>\n",
       "      <td>0.0</td>\n",
       "      <td>0.3</td>\n",
       "      <td>20.30</td>\n",
       "    </tr>\n",
       "    <tr>\n",
       "      <th>4</th>\n",
       "      <td>1</td>\n",
       "      <td>2018-07-01 00:41:56</td>\n",
       "      <td>2018-07-01 00:50:54</td>\n",
       "      <td>1</td>\n",
       "      <td>1.8</td>\n",
       "      <td>1</td>\n",
       "      <td>N</td>\n",
       "      <td>142</td>\n",
       "      <td>141</td>\n",
       "      <td>2</td>\n",
       "      <td>8.5</td>\n",
       "      <td>0.5</td>\n",
       "      <td>0.5</td>\n",
       "      <td>0.00</td>\n",
       "      <td>0.0</td>\n",
       "      <td>0.3</td>\n",
       "      <td>9.80</td>\n",
       "    </tr>\n",
       "  </tbody>\n",
       "</table>\n",
       "</div>"
      ],
      "text/plain": [
       "   VendorID tpep_pickup_datetime tpep_dropoff_datetime  passenger_count  \\\n",
       "0         1  2018-07-01 00:28:09   2018-07-01 00:28:51                1   \n",
       "1         1  2018-07-01 00:29:27   2018-07-01 00:30:17                1   \n",
       "2         1  2018-07-01 00:04:19   2018-07-01 00:08:29                2   \n",
       "3         1  2018-07-01 00:14:26   2018-07-01 00:36:35                1   \n",
       "4         1  2018-07-01 00:41:56   2018-07-01 00:50:54                1   \n",
       "\n",
       "   trip_distance  RatecodeID store_and_fwd_flag  PULocationID  DOLocationID  \\\n",
       "0            5.3           1                  N           145           145   \n",
       "1            5.3           1                  N           145           145   \n",
       "2            0.7           1                  N           211           144   \n",
       "3            4.8           1                  N           144           142   \n",
       "4            1.8           1                  N           142           141   \n",
       "\n",
       "   payment_type  fare_amount  extra  mta_tax  tip_amount  tolls_amount  \\\n",
       "0             2          2.5    0.5      0.5        0.00           0.0   \n",
       "1             2          2.5    0.5      0.5        0.00           0.0   \n",
       "2             1          5.0    0.5      0.5        1.25           0.0   \n",
       "3             1         18.0    0.5      0.5        1.00           0.0   \n",
       "4             2          8.5    0.5      0.5        0.00           0.0   \n",
       "\n",
       "   improvement_surcharge  total_amount  \n",
       "0                    0.3          3.80  \n",
       "1                    0.3          3.80  \n",
       "2                    0.3          7.55  \n",
       "3                    0.3         20.30  \n",
       "4                    0.3          9.80  "
      ]
     },
     "execution_count": 6,
     "metadata": {
      "tags": []
     },
     "output_type": "execute_result"
    }
   ],
   "source": [
    "df.head()"
   ]
  },
  {
   "cell_type": "code",
   "execution_count": 0,
   "metadata": {
    "colab": {
     "base_uri": "https://localhost:8080/",
     "height": 119
    },
    "colab_type": "code",
    "id": "F1myWvzILvKP",
    "outputId": "85505d84-bbc7-4b66-c248-ea511e44be58"
   },
   "outputs": [
    {
     "name": "stderr",
     "output_type": "stream",
     "text": [
      "/usr/local/lib/python3.6/dist-packages/ipykernel_launcher.py:2: SettingWithCopyWarning: \n",
      "A value is trying to be set on a copy of a slice from a DataFrame.\n",
      "Try using .loc[row_indexer,col_indexer] = value instead\n",
      "\n",
      "See the caveats in the documentation: http://pandas.pydata.org/pandas-docs/stable/indexing.html#indexing-view-versus-copy\n",
      "  \n"
     ]
    }
   ],
   "source": [
    "subset_df_pu = df[['tpep_pickup_datetime','PULocationID','payment_type']]\n",
    "subset_df_pu['tpep_pickup_datetime'] = pd.to_datetime(subset_df_pu['tpep_pickup_datetime'])\n",
    "subset_df_pu = subset_df_pu[subset_df_pu['tpep_pickup_datetime'].dt.year == 2018]\n",
    "subset_df_pu = subset_df_pu[(subset_df_pu['tpep_pickup_datetime'].dt.month == 7) | (subset_df_pu['tpep_pickup_datetime'].dt.month == 8)]"
   ]
  },
  {
   "cell_type": "code",
   "execution_count": 0,
   "metadata": {
    "colab": {},
    "colab_type": "code",
    "id": "RgLDqU6JV41w"
   },
   "outputs": [],
   "source": [
    "subset_df_pu['pu_date'] = subset_df_pu['tpep_pickup_datetime'].dt.date"
   ]
  },
  {
   "cell_type": "code",
   "execution_count": 0,
   "metadata": {
    "colab": {
     "base_uri": "https://localhost:8080/",
     "height": 204
    },
    "colab_type": "code",
    "id": "eBdJzuaFWoFX",
    "outputId": "5b41dc86-f8f4-472d-ff5b-a437f1ea7222"
   },
   "outputs": [
    {
     "data": {
      "text/html": [
       "<div>\n",
       "<style scoped>\n",
       "    .dataframe tbody tr th:only-of-type {\n",
       "        vertical-align: middle;\n",
       "    }\n",
       "\n",
       "    .dataframe tbody tr th {\n",
       "        vertical-align: top;\n",
       "    }\n",
       "\n",
       "    .dataframe thead th {\n",
       "        text-align: right;\n",
       "    }\n",
       "</style>\n",
       "<table border=\"1\" class=\"dataframe\">\n",
       "  <thead>\n",
       "    <tr style=\"text-align: right;\">\n",
       "      <th></th>\n",
       "      <th>tpep_pickup_datetime</th>\n",
       "      <th>PULocationID</th>\n",
       "      <th>payment_type</th>\n",
       "      <th>date</th>\n",
       "    </tr>\n",
       "  </thead>\n",
       "  <tbody>\n",
       "    <tr>\n",
       "      <th>0</th>\n",
       "      <td>2018-07-01 00:28:09</td>\n",
       "      <td>145</td>\n",
       "      <td>2</td>\n",
       "      <td>2018-07-01</td>\n",
       "    </tr>\n",
       "    <tr>\n",
       "      <th>1</th>\n",
       "      <td>2018-07-01 00:29:27</td>\n",
       "      <td>145</td>\n",
       "      <td>2</td>\n",
       "      <td>2018-07-01</td>\n",
       "    </tr>\n",
       "    <tr>\n",
       "      <th>2</th>\n",
       "      <td>2018-07-01 00:04:19</td>\n",
       "      <td>211</td>\n",
       "      <td>1</td>\n",
       "      <td>2018-07-01</td>\n",
       "    </tr>\n",
       "    <tr>\n",
       "      <th>3</th>\n",
       "      <td>2018-07-01 00:14:26</td>\n",
       "      <td>144</td>\n",
       "      <td>1</td>\n",
       "      <td>2018-07-01</td>\n",
       "    </tr>\n",
       "    <tr>\n",
       "      <th>4</th>\n",
       "      <td>2018-07-01 00:41:56</td>\n",
       "      <td>142</td>\n",
       "      <td>2</td>\n",
       "      <td>2018-07-01</td>\n",
       "    </tr>\n",
       "  </tbody>\n",
       "</table>\n",
       "</div>"
      ],
      "text/plain": [
       "  tpep_pickup_datetime  PULocationID  payment_type        date\n",
       "0  2018-07-01 00:28:09           145             2  2018-07-01\n",
       "1  2018-07-01 00:29:27           145             2  2018-07-01\n",
       "2  2018-07-01 00:04:19           211             1  2018-07-01\n",
       "3  2018-07-01 00:14:26           144             1  2018-07-01\n",
       "4  2018-07-01 00:41:56           142             2  2018-07-01"
      ]
     },
     "execution_count": 50,
     "metadata": {
      "tags": []
     },
     "output_type": "execute_result"
    }
   ],
   "source": [
    "subset_df_pu.head()"
   ]
  },
  {
   "cell_type": "code",
   "execution_count": 0,
   "metadata": {
    "colab": {},
    "colab_type": "code",
    "id": "FQVMrG0CWsZH"
   },
   "outputs": [],
   "source": [
    "daily_trips = subset_df_pu[['pu_date','PULocationID','payment_type']].groupby(['pu_date','PULocationID']).count()"
   ]
  },
  {
   "cell_type": "code",
   "execution_count": 0,
   "metadata": {
    "colab": {},
    "colab_type": "code",
    "id": "xdMMw13zXMl9"
   },
   "outputs": [],
   "source": [
    "cluster_base_daily_trips_pu = pd.pivot_table(daily_trips,index='PULocationID',values='payment_type',columns='pu_date')"
   ]
  },
  {
   "cell_type": "code",
   "execution_count": 0,
   "metadata": {
    "colab": {},
    "colab_type": "code",
    "id": "69Q3PzF9YIMc"
   },
   "outputs": [],
   "source": [
    "cluster_base_daily_trips_pu.fillna(0,inplace=True)"
   ]
  },
  {
   "cell_type": "code",
   "execution_count": 0,
   "metadata": {
    "colab": {
     "base_uri": "https://localhost:8080/",
     "height": 281
    },
    "colab_type": "code",
    "id": "PVCp5xviYOKu",
    "outputId": "c88f160e-9df8-4f34-e7d1-7eee9eb923d3"
   },
   "outputs": [
    {
     "data": {
      "text/html": [
       "<div>\n",
       "<style scoped>\n",
       "    .dataframe tbody tr th:only-of-type {\n",
       "        vertical-align: middle;\n",
       "    }\n",
       "\n",
       "    .dataframe tbody tr th {\n",
       "        vertical-align: top;\n",
       "    }\n",
       "\n",
       "    .dataframe thead th {\n",
       "        text-align: right;\n",
       "    }\n",
       "</style>\n",
       "<table border=\"1\" class=\"dataframe\">\n",
       "  <thead>\n",
       "    <tr style=\"text-align: right;\">\n",
       "      <th>pu_date</th>\n",
       "      <th>2018-07-01</th>\n",
       "      <th>2018-07-02</th>\n",
       "      <th>2018-07-03</th>\n",
       "      <th>2018-07-04</th>\n",
       "      <th>2018-07-05</th>\n",
       "      <th>2018-07-06</th>\n",
       "      <th>2018-07-07</th>\n",
       "      <th>2018-07-08</th>\n",
       "      <th>2018-07-09</th>\n",
       "      <th>2018-07-10</th>\n",
       "      <th>...</th>\n",
       "      <th>2018-08-22</th>\n",
       "      <th>2018-08-23</th>\n",
       "      <th>2018-08-24</th>\n",
       "      <th>2018-08-25</th>\n",
       "      <th>2018-08-26</th>\n",
       "      <th>2018-08-27</th>\n",
       "      <th>2018-08-28</th>\n",
       "      <th>2018-08-29</th>\n",
       "      <th>2018-08-30</th>\n",
       "      <th>2018-08-31</th>\n",
       "    </tr>\n",
       "    <tr>\n",
       "      <th>PULocationID</th>\n",
       "      <th></th>\n",
       "      <th></th>\n",
       "      <th></th>\n",
       "      <th></th>\n",
       "      <th></th>\n",
       "      <th></th>\n",
       "      <th></th>\n",
       "      <th></th>\n",
       "      <th></th>\n",
       "      <th></th>\n",
       "      <th></th>\n",
       "      <th></th>\n",
       "      <th></th>\n",
       "      <th></th>\n",
       "      <th></th>\n",
       "      <th></th>\n",
       "      <th></th>\n",
       "      <th></th>\n",
       "      <th></th>\n",
       "      <th></th>\n",
       "      <th></th>\n",
       "    </tr>\n",
       "  </thead>\n",
       "  <tbody>\n",
       "    <tr>\n",
       "      <th>1</th>\n",
       "      <td>26.0</td>\n",
       "      <td>24.0</td>\n",
       "      <td>19.0</td>\n",
       "      <td>15.0</td>\n",
       "      <td>13.0</td>\n",
       "      <td>13.0</td>\n",
       "      <td>12.0</td>\n",
       "      <td>14.0</td>\n",
       "      <td>11.0</td>\n",
       "      <td>14.0</td>\n",
       "      <td>...</td>\n",
       "      <td>18.0</td>\n",
       "      <td>17.0</td>\n",
       "      <td>19.0</td>\n",
       "      <td>21.0</td>\n",
       "      <td>22.0</td>\n",
       "      <td>12.0</td>\n",
       "      <td>18.0</td>\n",
       "      <td>11.0</td>\n",
       "      <td>17.0</td>\n",
       "      <td>18.0</td>\n",
       "    </tr>\n",
       "    <tr>\n",
       "      <th>2</th>\n",
       "      <td>0.0</td>\n",
       "      <td>0.0</td>\n",
       "      <td>0.0</td>\n",
       "      <td>1.0</td>\n",
       "      <td>0.0</td>\n",
       "      <td>0.0</td>\n",
       "      <td>0.0</td>\n",
       "      <td>0.0</td>\n",
       "      <td>0.0</td>\n",
       "      <td>0.0</td>\n",
       "      <td>...</td>\n",
       "      <td>0.0</td>\n",
       "      <td>1.0</td>\n",
       "      <td>0.0</td>\n",
       "      <td>0.0</td>\n",
       "      <td>0.0</td>\n",
       "      <td>0.0</td>\n",
       "      <td>0.0</td>\n",
       "      <td>0.0</td>\n",
       "      <td>0.0</td>\n",
       "      <td>1.0</td>\n",
       "    </tr>\n",
       "    <tr>\n",
       "      <th>3</th>\n",
       "      <td>4.0</td>\n",
       "      <td>2.0</td>\n",
       "      <td>3.0</td>\n",
       "      <td>2.0</td>\n",
       "      <td>1.0</td>\n",
       "      <td>3.0</td>\n",
       "      <td>3.0</td>\n",
       "      <td>3.0</td>\n",
       "      <td>1.0</td>\n",
       "      <td>3.0</td>\n",
       "      <td>...</td>\n",
       "      <td>3.0</td>\n",
       "      <td>6.0</td>\n",
       "      <td>1.0</td>\n",
       "      <td>5.0</td>\n",
       "      <td>5.0</td>\n",
       "      <td>2.0</td>\n",
       "      <td>1.0</td>\n",
       "      <td>7.0</td>\n",
       "      <td>4.0</td>\n",
       "      <td>1.0</td>\n",
       "    </tr>\n",
       "    <tr>\n",
       "      <th>4</th>\n",
       "      <td>582.0</td>\n",
       "      <td>374.0</td>\n",
       "      <td>471.0</td>\n",
       "      <td>516.0</td>\n",
       "      <td>462.0</td>\n",
       "      <td>447.0</td>\n",
       "      <td>593.0</td>\n",
       "      <td>477.0</td>\n",
       "      <td>362.0</td>\n",
       "      <td>426.0</td>\n",
       "      <td>...</td>\n",
       "      <td>368.0</td>\n",
       "      <td>425.0</td>\n",
       "      <td>497.0</td>\n",
       "      <td>645.0</td>\n",
       "      <td>578.0</td>\n",
       "      <td>321.0</td>\n",
       "      <td>358.0</td>\n",
       "      <td>391.0</td>\n",
       "      <td>403.0</td>\n",
       "      <td>541.0</td>\n",
       "    </tr>\n",
       "    <tr>\n",
       "      <th>5</th>\n",
       "      <td>0.0</td>\n",
       "      <td>0.0</td>\n",
       "      <td>0.0</td>\n",
       "      <td>0.0</td>\n",
       "      <td>0.0</td>\n",
       "      <td>1.0</td>\n",
       "      <td>0.0</td>\n",
       "      <td>0.0</td>\n",
       "      <td>0.0</td>\n",
       "      <td>0.0</td>\n",
       "      <td>...</td>\n",
       "      <td>0.0</td>\n",
       "      <td>0.0</td>\n",
       "      <td>1.0</td>\n",
       "      <td>0.0</td>\n",
       "      <td>0.0</td>\n",
       "      <td>0.0</td>\n",
       "      <td>1.0</td>\n",
       "      <td>1.0</td>\n",
       "      <td>1.0</td>\n",
       "      <td>1.0</td>\n",
       "    </tr>\n",
       "  </tbody>\n",
       "</table>\n",
       "<p>5 rows × 62 columns</p>\n",
       "</div>"
      ],
      "text/plain": [
       "pu_date       2018-07-01  2018-07-02  2018-07-03  2018-07-04  2018-07-05  \\\n",
       "PULocationID                                                               \n",
       "1                   26.0        24.0        19.0        15.0        13.0   \n",
       "2                    0.0         0.0         0.0         1.0         0.0   \n",
       "3                    4.0         2.0         3.0         2.0         1.0   \n",
       "4                  582.0       374.0       471.0       516.0       462.0   \n",
       "5                    0.0         0.0         0.0         0.0         0.0   \n",
       "\n",
       "pu_date       2018-07-06  2018-07-07  2018-07-08  2018-07-09  2018-07-10  \\\n",
       "PULocationID                                                               \n",
       "1                   13.0        12.0        14.0        11.0        14.0   \n",
       "2                    0.0         0.0         0.0         0.0         0.0   \n",
       "3                    3.0         3.0         3.0         1.0         3.0   \n",
       "4                  447.0       593.0       477.0       362.0       426.0   \n",
       "5                    1.0         0.0         0.0         0.0         0.0   \n",
       "\n",
       "pu_date          ...      2018-08-22  2018-08-23  2018-08-24  2018-08-25  \\\n",
       "PULocationID     ...                                                       \n",
       "1                ...            18.0        17.0        19.0        21.0   \n",
       "2                ...             0.0         1.0         0.0         0.0   \n",
       "3                ...             3.0         6.0         1.0         5.0   \n",
       "4                ...           368.0       425.0       497.0       645.0   \n",
       "5                ...             0.0         0.0         1.0         0.0   \n",
       "\n",
       "pu_date       2018-08-26  2018-08-27  2018-08-28  2018-08-29  2018-08-30  \\\n",
       "PULocationID                                                               \n",
       "1                   22.0        12.0        18.0        11.0        17.0   \n",
       "2                    0.0         0.0         0.0         0.0         0.0   \n",
       "3                    5.0         2.0         1.0         7.0         4.0   \n",
       "4                  578.0       321.0       358.0       391.0       403.0   \n",
       "5                    0.0         0.0         1.0         1.0         1.0   \n",
       "\n",
       "pu_date       2018-08-31  \n",
       "PULocationID              \n",
       "1                   18.0  \n",
       "2                    1.0  \n",
       "3                    1.0  \n",
       "4                  541.0  \n",
       "5                    1.0  \n",
       "\n",
       "[5 rows x 62 columns]"
      ]
     },
     "execution_count": 69,
     "metadata": {
      "tags": []
     },
     "output_type": "execute_result"
    }
   ],
   "source": [
    "cluster_base_daily_trips_pu.head()"
   ]
  },
  {
   "cell_type": "code",
   "execution_count": 0,
   "metadata": {
    "colab": {},
    "colab_type": "code",
    "id": "RmdvPuAIM8WD"
   },
   "outputs": [],
   "source": [
    "pu_cc = subset_df_pu[subset_df_pu['payment_type']==2]"
   ]
  },
  {
   "cell_type": "code",
   "execution_count": 0,
   "metadata": {
    "colab": {},
    "colab_type": "code",
    "id": "PEaKrHq4MCjm"
   },
   "outputs": [],
   "source": [
    "subset_df_do = df[['tpep_pickup_datetime','DOLocationID','payment_type']]"
   ]
  },
  {
   "cell_type": "code",
   "execution_count": 0,
   "metadata": {
    "colab": {},
    "colab_type": "code",
    "id": "sUtJ8ZkhMKu1"
   },
   "outputs": [],
   "source": [
    "do_cc = subset_df_do[subset_df_do['payment_type']==2]"
   ]
  },
  {
   "cell_type": "code",
   "execution_count": 0,
   "metadata": {
    "colab": {
     "base_uri": "https://localhost:8080/",
     "height": 34
    },
    "colab_type": "code",
    "id": "XR_aYNA9NW7S",
    "outputId": "92cf65a3-abbc-4c6c-a9f1-eb82003f9f8c"
   },
   "outputs": [
    {
     "data": {
      "text/plain": [
       "(4941485, 3)"
      ]
     },
     "execution_count": 13,
     "metadata": {
      "tags": []
     },
     "output_type": "execute_result"
    }
   ],
   "source": [
    "do_cc.shape"
   ]
  },
  {
   "cell_type": "code",
   "execution_count": 0,
   "metadata": {
    "colab": {
     "base_uri": "https://localhost:8080/",
     "height": 204
    },
    "colab_type": "code",
    "id": "rcB-JVkJNoni",
    "outputId": "83d075a1-02cc-4279-8f60-3b5c7298f5c0"
   },
   "outputs": [
    {
     "data": {
      "text/html": [
       "<div>\n",
       "<style scoped>\n",
       "    .dataframe tbody tr th:only-of-type {\n",
       "        vertical-align: middle;\n",
       "    }\n",
       "\n",
       "    .dataframe tbody tr th {\n",
       "        vertical-align: top;\n",
       "    }\n",
       "\n",
       "    .dataframe thead th {\n",
       "        text-align: right;\n",
       "    }\n",
       "</style>\n",
       "<table border=\"1\" class=\"dataframe\">\n",
       "  <thead>\n",
       "    <tr style=\"text-align: right;\">\n",
       "      <th></th>\n",
       "      <th>tpep_pickup_datetime</th>\n",
       "      <th>PULocationID</th>\n",
       "      <th>payment_type</th>\n",
       "      <th>pu_date</th>\n",
       "    </tr>\n",
       "  </thead>\n",
       "  <tbody>\n",
       "    <tr>\n",
       "      <th>0</th>\n",
       "      <td>2018-07-01 00:28:09</td>\n",
       "      <td>145</td>\n",
       "      <td>2</td>\n",
       "      <td>2018-07-01</td>\n",
       "    </tr>\n",
       "    <tr>\n",
       "      <th>1</th>\n",
       "      <td>2018-07-01 00:29:27</td>\n",
       "      <td>145</td>\n",
       "      <td>2</td>\n",
       "      <td>2018-07-01</td>\n",
       "    </tr>\n",
       "    <tr>\n",
       "      <th>4</th>\n",
       "      <td>2018-07-01 00:41:56</td>\n",
       "      <td>142</td>\n",
       "      <td>2</td>\n",
       "      <td>2018-07-01</td>\n",
       "    </tr>\n",
       "    <tr>\n",
       "      <th>7</th>\n",
       "      <td>2018-07-01 00:23:26</td>\n",
       "      <td>43</td>\n",
       "      <td>2</td>\n",
       "      <td>2018-07-01</td>\n",
       "    </tr>\n",
       "    <tr>\n",
       "      <th>8</th>\n",
       "      <td>2018-07-01 00:51:07</td>\n",
       "      <td>145</td>\n",
       "      <td>2</td>\n",
       "      <td>2018-07-01</td>\n",
       "    </tr>\n",
       "  </tbody>\n",
       "</table>\n",
       "</div>"
      ],
      "text/plain": [
       "  tpep_pickup_datetime  PULocationID  payment_type     pu_date\n",
       "0  2018-07-01 00:28:09           145             2  2018-07-01\n",
       "1  2018-07-01 00:29:27           145             2  2018-07-01\n",
       "4  2018-07-01 00:41:56           142             2  2018-07-01\n",
       "7  2018-07-01 00:23:26            43             2  2018-07-01\n",
       "8  2018-07-01 00:51:07           145             2  2018-07-01"
      ]
     },
     "execution_count": 18,
     "metadata": {
      "tags": []
     },
     "output_type": "execute_result"
    }
   ],
   "source": [
    "pu_cc.head()"
   ]
  },
  {
   "cell_type": "code",
   "execution_count": 0,
   "metadata": {
    "colab": {
     "base_uri": "https://localhost:8080/",
     "height": 119
    },
    "colab_type": "code",
    "id": "w4TeYlCSNt-J",
    "outputId": "1eeaa34a-63bf-42fa-e01b-6335451e513b"
   },
   "outputs": [
    {
     "name": "stderr",
     "output_type": "stream",
     "text": [
      "/usr/local/lib/python3.6/dist-packages/ipykernel_launcher.py:1: SettingWithCopyWarning: \n",
      "A value is trying to be set on a copy of a slice from a DataFrame.\n",
      "Try using .loc[row_indexer,col_indexer] = value instead\n",
      "\n",
      "See the caveats in the documentation: http://pandas.pydata.org/pandas-docs/stable/indexing.html#indexing-view-versus-copy\n",
      "  \"\"\"Entry point for launching an IPython kernel.\n"
     ]
    }
   ],
   "source": [
    "pu_cc['tpep_pickup_datetime'] = pd.to_datetime(pu_cc['tpep_pickup_datetime'])"
   ]
  },
  {
   "cell_type": "code",
   "execution_count": 0,
   "metadata": {
    "colab": {
     "base_uri": "https://localhost:8080/",
     "height": 119
    },
    "colab_type": "code",
    "id": "dSXynWSjNzRp",
    "outputId": "de99d6d5-031a-48a7-fe93-fdce3421c111"
   },
   "outputs": [
    {
     "name": "stderr",
     "output_type": "stream",
     "text": [
      "/usr/local/lib/python3.6/dist-packages/ipykernel_launcher.py:1: SettingWithCopyWarning: \n",
      "A value is trying to be set on a copy of a slice from a DataFrame.\n",
      "Try using .loc[row_indexer,col_indexer] = value instead\n",
      "\n",
      "See the caveats in the documentation: http://pandas.pydata.org/pandas-docs/stable/indexing.html#indexing-view-versus-copy\n",
      "  \"\"\"Entry point for launching an IPython kernel.\n"
     ]
    }
   ],
   "source": [
    "pu_cc['pu_date'] = pu_cc['tpep_pickup_datetime'].dt.date"
   ]
  },
  {
   "cell_type": "code",
   "execution_count": 0,
   "metadata": {
    "colab": {},
    "colab_type": "code",
    "id": "ahutbOy_Pcum"
   },
   "outputs": [],
   "source": [
    "pu_cc = pu_cc[pu_cc['tpep_pickup_datetime'].dt.year == 2018]"
   ]
  },
  {
   "cell_type": "code",
   "execution_count": 0,
   "metadata": {
    "colab": {},
    "colab_type": "code",
    "id": "aYqWcPmAP8Cs"
   },
   "outputs": [],
   "source": [
    "pu_cc = pu_cc[(pu_cc['tpep_pickup_datetime'].dt.month == 7) | (pu_cc['tpep_pickup_datetime'].dt.month == 8)]"
   ]
  },
  {
   "cell_type": "code",
   "execution_count": 0,
   "metadata": {
    "colab": {
     "base_uri": "https://localhost:8080/",
     "height": 34
    },
    "colab_type": "code",
    "id": "RdmvrHAyQ1z1",
    "outputId": "0f65d067-8ed7-4dda-a70f-6d7c6a114572"
   },
   "outputs": [
    {
     "data": {
      "text/plain": [
       "(4941217, 4)"
      ]
     },
     "execution_count": 35,
     "metadata": {
      "tags": []
     },
     "output_type": "execute_result"
    }
   ],
   "source": [
    "pu_cc.shape"
   ]
  },
  {
   "cell_type": "code",
   "execution_count": 0,
   "metadata": {
    "colab": {},
    "colab_type": "code",
    "id": "iFXFibybOLQq"
   },
   "outputs": [],
   "source": [
    "daily_trips_cc = pu_cc[['pu_date','PULocationID','payment_type']].groupby(['pu_date','PULocationID']).count()"
   ]
  },
  {
   "cell_type": "code",
   "execution_count": 0,
   "metadata": {
    "colab": {},
    "colab_type": "code",
    "id": "x8NJ05gyOwv_"
   },
   "outputs": [],
   "source": [
    "daily_trips_cc.reset_index(inplace=True)"
   ]
  },
  {
   "cell_type": "code",
   "execution_count": 0,
   "metadata": {
    "colab": {
     "base_uri": "https://localhost:8080/",
     "height": 204
    },
    "colab_type": "code",
    "id": "vFRjo_h3SLN3",
    "outputId": "d5495c50-79b2-40de-97de-eff50cf7fb1e"
   },
   "outputs": [
    {
     "data": {
      "text/html": [
       "<div>\n",
       "<style scoped>\n",
       "    .dataframe tbody tr th:only-of-type {\n",
       "        vertical-align: middle;\n",
       "    }\n",
       "\n",
       "    .dataframe tbody tr th {\n",
       "        vertical-align: top;\n",
       "    }\n",
       "\n",
       "    .dataframe thead th {\n",
       "        text-align: right;\n",
       "    }\n",
       "</style>\n",
       "<table border=\"1\" class=\"dataframe\">\n",
       "  <thead>\n",
       "    <tr style=\"text-align: right;\">\n",
       "      <th></th>\n",
       "      <th>pu_date</th>\n",
       "      <th>PULocationID</th>\n",
       "      <th>payment_type</th>\n",
       "    </tr>\n",
       "  </thead>\n",
       "  <tbody>\n",
       "    <tr>\n",
       "      <th>0</th>\n",
       "      <td>2018-07-01</td>\n",
       "      <td>1</td>\n",
       "      <td>1</td>\n",
       "    </tr>\n",
       "    <tr>\n",
       "      <th>1</th>\n",
       "      <td>2018-07-01</td>\n",
       "      <td>3</td>\n",
       "      <td>3</td>\n",
       "    </tr>\n",
       "    <tr>\n",
       "      <th>2</th>\n",
       "      <td>2018-07-01</td>\n",
       "      <td>4</td>\n",
       "      <td>202</td>\n",
       "    </tr>\n",
       "    <tr>\n",
       "      <th>3</th>\n",
       "      <td>2018-07-01</td>\n",
       "      <td>6</td>\n",
       "      <td>1</td>\n",
       "    </tr>\n",
       "    <tr>\n",
       "      <th>4</th>\n",
       "      <td>2018-07-01</td>\n",
       "      <td>7</td>\n",
       "      <td>432</td>\n",
       "    </tr>\n",
       "  </tbody>\n",
       "</table>\n",
       "</div>"
      ],
      "text/plain": [
       "      pu_date  PULocationID  payment_type\n",
       "0  2018-07-01             1             1\n",
       "1  2018-07-01             3             3\n",
       "2  2018-07-01             4           202\n",
       "3  2018-07-01             6             1\n",
       "4  2018-07-01             7           432"
      ]
     },
     "execution_count": 39,
     "metadata": {
      "tags": []
     },
     "output_type": "execute_result"
    }
   ],
   "source": [
    "daily_trips_cc.head()"
   ]
  },
  {
   "cell_type": "code",
   "execution_count": 0,
   "metadata": {
    "colab": {},
    "colab_type": "code",
    "id": "U8D3fOGfPFYO"
   },
   "outputs": [],
   "source": [
    "cluster_base_cc_pu = pd.pivot_table(daily_trips_cc,index='PULocationID',values='payment_type',columns='pu_date')"
   ]
  },
  {
   "cell_type": "code",
   "execution_count": 0,
   "metadata": {
    "colab": {},
    "colab_type": "code",
    "id": "kpbfmDxySoaX"
   },
   "outputs": [],
   "source": [
    "cluster_base_cc_pu.fillna(0,inplace=True)"
   ]
  },
  {
   "cell_type": "code",
   "execution_count": 0,
   "metadata": {
    "colab": {},
    "colab_type": "code",
    "id": "QbIWkZx4YR7E"
   },
   "outputs": [],
   "source": [
    "cc_percentage_pu_clustering = cluster_base_cc_pu / cluster_base_daily_trips_pu"
   ]
  },
  {
   "cell_type": "code",
   "execution_count": 0,
   "metadata": {
    "colab": {},
    "colab_type": "code",
    "id": "0D0Y2MhrZdZU"
   },
   "outputs": [],
   "source": [
    "cc_percentage_pu_clustering.fillna(0,inplace=True)"
   ]
  },
  {
   "cell_type": "code",
   "execution_count": 0,
   "metadata": {
    "colab": {},
    "colab_type": "code",
    "id": "fbZz-UF_e8nX"
   },
   "outputs": [],
   "source": [
    "cc_percentage_pu_clustering.to_csv('po.csv')"
   ]
  },
  {
   "cell_type": "markdown",
   "metadata": {
    "colab_type": "text",
    "id": "fKCVH-HNayE_"
   },
   "source": [
    "**Lets do the same for drop off sites**"
   ]
  },
  {
   "cell_type": "code",
   "execution_count": 0,
   "metadata": {
    "colab": {},
    "colab_type": "code",
    "id": "jl_EOCTQa11H"
   },
   "outputs": [],
   "source": [
    "subset_df_do = df[['tpep_pickup_datetime','DOLocationID','payment_type']]\n"
   ]
  },
  {
   "cell_type": "code",
   "execution_count": 0,
   "metadata": {
    "colab": {
     "base_uri": "https://localhost:8080/",
     "height": 119
    },
    "colab_type": "code",
    "id": "UrAcnXO5bkyv",
    "outputId": "b969bbcd-7875-4c6e-8394-9eab14bb9bba"
   },
   "outputs": [
    {
     "name": "stderr",
     "output_type": "stream",
     "text": [
      "/usr/local/lib/python3.6/dist-packages/ipykernel_launcher.py:1: SettingWithCopyWarning: \n",
      "A value is trying to be set on a copy of a slice from a DataFrame.\n",
      "Try using .loc[row_indexer,col_indexer] = value instead\n",
      "\n",
      "See the caveats in the documentation: http://pandas.pydata.org/pandas-docs/stable/indexing.html#indexing-view-versus-copy\n",
      "  \"\"\"Entry point for launching an IPython kernel.\n"
     ]
    }
   ],
   "source": [
    "subset_df_do['tpep_pickup_datetime'] = pd.to_datetime(subset_df_do['tpep_pickup_datetime'])\n",
    "subset_df_do = subset_df_do[subset_df_do['tpep_pickup_datetime'].dt.year == 2018]\n",
    "subset_df_do = subset_df_do[(subset_df_do['tpep_pickup_datetime'].dt.month == 7) | (subset_df_do['tpep_pickup_datetime'].dt.month == 8)]"
   ]
  },
  {
   "cell_type": "code",
   "execution_count": 0,
   "metadata": {
    "colab": {},
    "colab_type": "code",
    "id": "VE6gogXcbSsd"
   },
   "outputs": [],
   "source": [
    "do_cc = subset_df_do[subset_df_do['payment_type']==2]"
   ]
  },
  {
   "cell_type": "code",
   "execution_count": 0,
   "metadata": {
    "colab": {
     "base_uri": "https://localhost:8080/",
     "height": 119
    },
    "colab_type": "code",
    "id": "xXNTW-cabtZd",
    "outputId": "a0f5a6a1-36be-4f6c-b823-7288c9362785"
   },
   "outputs": [
    {
     "name": "stderr",
     "output_type": "stream",
     "text": [
      "/usr/local/lib/python3.6/dist-packages/ipykernel_launcher.py:1: SettingWithCopyWarning: \n",
      "A value is trying to be set on a copy of a slice from a DataFrame.\n",
      "Try using .loc[row_indexer,col_indexer] = value instead\n",
      "\n",
      "See the caveats in the documentation: http://pandas.pydata.org/pandas-docs/stable/indexing.html#indexing-view-versus-copy\n",
      "  \"\"\"Entry point for launching an IPython kernel.\n"
     ]
    }
   ],
   "source": [
    "do_cc['pu_date'] = do_cc['tpep_pickup_datetime'].dt.date"
   ]
  },
  {
   "cell_type": "code",
   "execution_count": 0,
   "metadata": {
    "colab": {},
    "colab_type": "code",
    "id": "CXCSiVWOb1c1"
   },
   "outputs": [],
   "source": [
    "daily_trips_cc_do = do_cc[['pu_date','DOLocationID','payment_type']].groupby(['pu_date','DOLocationID']).count()"
   ]
  },
  {
   "cell_type": "code",
   "execution_count": 0,
   "metadata": {
    "colab": {},
    "colab_type": "code",
    "id": "lLDB3yXZckvb"
   },
   "outputs": [],
   "source": [
    "subset_df_do['pu_date'] = subset_df_do['tpep_pickup_datetime'].dt.date"
   ]
  },
  {
   "cell_type": "code",
   "execution_count": 0,
   "metadata": {
    "colab": {},
    "colab_type": "code",
    "id": "z2agMvEAcB7k"
   },
   "outputs": [],
   "source": [
    "daily_trips_do = subset_df_do[['pu_date','DOLocationID','payment_type']].groupby(['pu_date','DOLocationID']).count()"
   ]
  },
  {
   "cell_type": "code",
   "execution_count": 0,
   "metadata": {
    "colab": {},
    "colab_type": "code",
    "id": "Z9lGli2KcjVj"
   },
   "outputs": [],
   "source": [
    "cluster_base_cc_do = pd.pivot_table(daily_trips_cc_do,index='DOLocationID',values='payment_type',columns='pu_date')"
   ]
  },
  {
   "cell_type": "code",
   "execution_count": 0,
   "metadata": {
    "colab": {},
    "colab_type": "code",
    "id": "W_5pCy_hdSDy"
   },
   "outputs": [],
   "source": [
    "cluster_base_daily_do = pd.pivot_table(daily_trips_do ,index='DOLocationID',values='payment_type',columns='pu_date')"
   ]
  },
  {
   "cell_type": "code",
   "execution_count": 0,
   "metadata": {
    "colab": {
     "base_uri": "https://localhost:8080/",
     "height": 281
    },
    "colab_type": "code",
    "id": "qu4Ysgg_dcIa",
    "outputId": "f96b662d-f72c-43e4-8170-0324c6936c94"
   },
   "outputs": [
    {
     "data": {
      "text/html": [
       "<div>\n",
       "<style scoped>\n",
       "    .dataframe tbody tr th:only-of-type {\n",
       "        vertical-align: middle;\n",
       "    }\n",
       "\n",
       "    .dataframe tbody tr th {\n",
       "        vertical-align: top;\n",
       "    }\n",
       "\n",
       "    .dataframe thead th {\n",
       "        text-align: right;\n",
       "    }\n",
       "</style>\n",
       "<table border=\"1\" class=\"dataframe\">\n",
       "  <thead>\n",
       "    <tr style=\"text-align: right;\">\n",
       "      <th>pu_date</th>\n",
       "      <th>2018-07-01</th>\n",
       "      <th>2018-07-02</th>\n",
       "      <th>2018-07-03</th>\n",
       "      <th>2018-07-04</th>\n",
       "      <th>2018-07-05</th>\n",
       "      <th>2018-07-06</th>\n",
       "      <th>2018-07-07</th>\n",
       "      <th>2018-07-08</th>\n",
       "      <th>2018-07-09</th>\n",
       "      <th>2018-07-10</th>\n",
       "      <th>...</th>\n",
       "      <th>2018-08-22</th>\n",
       "      <th>2018-08-23</th>\n",
       "      <th>2018-08-24</th>\n",
       "      <th>2018-08-25</th>\n",
       "      <th>2018-08-26</th>\n",
       "      <th>2018-08-27</th>\n",
       "      <th>2018-08-28</th>\n",
       "      <th>2018-08-29</th>\n",
       "      <th>2018-08-30</th>\n",
       "      <th>2018-08-31</th>\n",
       "    </tr>\n",
       "    <tr>\n",
       "      <th>DOLocationID</th>\n",
       "      <th></th>\n",
       "      <th></th>\n",
       "      <th></th>\n",
       "      <th></th>\n",
       "      <th></th>\n",
       "      <th></th>\n",
       "      <th></th>\n",
       "      <th></th>\n",
       "      <th></th>\n",
       "      <th></th>\n",
       "      <th></th>\n",
       "      <th></th>\n",
       "      <th></th>\n",
       "      <th></th>\n",
       "      <th></th>\n",
       "      <th></th>\n",
       "      <th></th>\n",
       "      <th></th>\n",
       "      <th></th>\n",
       "      <th></th>\n",
       "      <th></th>\n",
       "    </tr>\n",
       "  </thead>\n",
       "  <tbody>\n",
       "    <tr>\n",
       "      <th>1</th>\n",
       "      <td>144.0</td>\n",
       "      <td>120.0</td>\n",
       "      <td>101.0</td>\n",
       "      <td>94.0</td>\n",
       "      <td>90.0</td>\n",
       "      <td>103.0</td>\n",
       "      <td>99.0</td>\n",
       "      <td>127.0</td>\n",
       "      <td>91.0</td>\n",
       "      <td>69.0</td>\n",
       "      <td>...</td>\n",
       "      <td>84.0</td>\n",
       "      <td>83.0</td>\n",
       "      <td>84.0</td>\n",
       "      <td>83.0</td>\n",
       "      <td>120.0</td>\n",
       "      <td>124.0</td>\n",
       "      <td>94.0</td>\n",
       "      <td>100.0</td>\n",
       "      <td>88.0</td>\n",
       "      <td>97.0</td>\n",
       "    </tr>\n",
       "    <tr>\n",
       "      <th>2</th>\n",
       "      <td>NaN</td>\n",
       "      <td>NaN</td>\n",
       "      <td>NaN</td>\n",
       "      <td>NaN</td>\n",
       "      <td>NaN</td>\n",
       "      <td>NaN</td>\n",
       "      <td>NaN</td>\n",
       "      <td>NaN</td>\n",
       "      <td>NaN</td>\n",
       "      <td>NaN</td>\n",
       "      <td>...</td>\n",
       "      <td>NaN</td>\n",
       "      <td>NaN</td>\n",
       "      <td>NaN</td>\n",
       "      <td>NaN</td>\n",
       "      <td>NaN</td>\n",
       "      <td>NaN</td>\n",
       "      <td>NaN</td>\n",
       "      <td>NaN</td>\n",
       "      <td>NaN</td>\n",
       "      <td>NaN</td>\n",
       "    </tr>\n",
       "    <tr>\n",
       "      <th>3</th>\n",
       "      <td>7.0</td>\n",
       "      <td>8.0</td>\n",
       "      <td>5.0</td>\n",
       "      <td>5.0</td>\n",
       "      <td>8.0</td>\n",
       "      <td>6.0</td>\n",
       "      <td>11.0</td>\n",
       "      <td>4.0</td>\n",
       "      <td>7.0</td>\n",
       "      <td>6.0</td>\n",
       "      <td>...</td>\n",
       "      <td>10.0</td>\n",
       "      <td>9.0</td>\n",
       "      <td>9.0</td>\n",
       "      <td>11.0</td>\n",
       "      <td>16.0</td>\n",
       "      <td>13.0</td>\n",
       "      <td>9.0</td>\n",
       "      <td>6.0</td>\n",
       "      <td>5.0</td>\n",
       "      <td>5.0</td>\n",
       "    </tr>\n",
       "    <tr>\n",
       "      <th>4</th>\n",
       "      <td>478.0</td>\n",
       "      <td>388.0</td>\n",
       "      <td>390.0</td>\n",
       "      <td>422.0</td>\n",
       "      <td>410.0</td>\n",
       "      <td>386.0</td>\n",
       "      <td>468.0</td>\n",
       "      <td>400.0</td>\n",
       "      <td>362.0</td>\n",
       "      <td>389.0</td>\n",
       "      <td>...</td>\n",
       "      <td>329.0</td>\n",
       "      <td>362.0</td>\n",
       "      <td>433.0</td>\n",
       "      <td>418.0</td>\n",
       "      <td>350.0</td>\n",
       "      <td>310.0</td>\n",
       "      <td>346.0</td>\n",
       "      <td>343.0</td>\n",
       "      <td>363.0</td>\n",
       "      <td>494.0</td>\n",
       "    </tr>\n",
       "    <tr>\n",
       "      <th>5</th>\n",
       "      <td>NaN</td>\n",
       "      <td>1.0</td>\n",
       "      <td>NaN</td>\n",
       "      <td>NaN</td>\n",
       "      <td>NaN</td>\n",
       "      <td>NaN</td>\n",
       "      <td>NaN</td>\n",
       "      <td>2.0</td>\n",
       "      <td>NaN</td>\n",
       "      <td>NaN</td>\n",
       "      <td>...</td>\n",
       "      <td>NaN</td>\n",
       "      <td>NaN</td>\n",
       "      <td>1.0</td>\n",
       "      <td>1.0</td>\n",
       "      <td>1.0</td>\n",
       "      <td>NaN</td>\n",
       "      <td>1.0</td>\n",
       "      <td>1.0</td>\n",
       "      <td>1.0</td>\n",
       "      <td>NaN</td>\n",
       "    </tr>\n",
       "  </tbody>\n",
       "</table>\n",
       "<p>5 rows × 62 columns</p>\n",
       "</div>"
      ],
      "text/plain": [
       "pu_date       2018-07-01  2018-07-02  2018-07-03  2018-07-04  2018-07-05  \\\n",
       "DOLocationID                                                               \n",
       "1                  144.0       120.0       101.0        94.0        90.0   \n",
       "2                    NaN         NaN         NaN         NaN         NaN   \n",
       "3                    7.0         8.0         5.0         5.0         8.0   \n",
       "4                  478.0       388.0       390.0       422.0       410.0   \n",
       "5                    NaN         1.0         NaN         NaN         NaN   \n",
       "\n",
       "pu_date       2018-07-06  2018-07-07  2018-07-08  2018-07-09  2018-07-10  \\\n",
       "DOLocationID                                                               \n",
       "1                  103.0        99.0       127.0        91.0        69.0   \n",
       "2                    NaN         NaN         NaN         NaN         NaN   \n",
       "3                    6.0        11.0         4.0         7.0         6.0   \n",
       "4                  386.0       468.0       400.0       362.0       389.0   \n",
       "5                    NaN         NaN         2.0         NaN         NaN   \n",
       "\n",
       "pu_date          ...      2018-08-22  2018-08-23  2018-08-24  2018-08-25  \\\n",
       "DOLocationID     ...                                                       \n",
       "1                ...            84.0        83.0        84.0        83.0   \n",
       "2                ...             NaN         NaN         NaN         NaN   \n",
       "3                ...            10.0         9.0         9.0        11.0   \n",
       "4                ...           329.0       362.0       433.0       418.0   \n",
       "5                ...             NaN         NaN         1.0         1.0   \n",
       "\n",
       "pu_date       2018-08-26  2018-08-27  2018-08-28  2018-08-29  2018-08-30  \\\n",
       "DOLocationID                                                               \n",
       "1                  120.0       124.0        94.0       100.0        88.0   \n",
       "2                    NaN         NaN         NaN         NaN         NaN   \n",
       "3                   16.0        13.0         9.0         6.0         5.0   \n",
       "4                  350.0       310.0       346.0       343.0       363.0   \n",
       "5                    1.0         NaN         1.0         1.0         1.0   \n",
       "\n",
       "pu_date       2018-08-31  \n",
       "DOLocationID              \n",
       "1                   97.0  \n",
       "2                    NaN  \n",
       "3                    5.0  \n",
       "4                  494.0  \n",
       "5                    NaN  \n",
       "\n",
       "[5 rows x 62 columns]"
      ]
     },
     "execution_count": 87,
     "metadata": {
      "tags": []
     },
     "output_type": "execute_result"
    }
   ],
   "source": [
    "cluster_base_cc_do.head()"
   ]
  },
  {
   "cell_type": "code",
   "execution_count": 0,
   "metadata": {
    "colab": {},
    "colab_type": "code",
    "id": "tzJI3CghdpqB"
   },
   "outputs": [],
   "source": [
    "cluster_base_cc_do.fillna(0,inplace=True)"
   ]
  },
  {
   "cell_type": "code",
   "execution_count": 0,
   "metadata": {
    "colab": {},
    "colab_type": "code",
    "id": "Op-qAuiddekB"
   },
   "outputs": [],
   "source": [
    "cluster_base_daily_do.fillna(0,inplace=True)"
   ]
  },
  {
   "cell_type": "code",
   "execution_count": 0,
   "metadata": {
    "colab": {},
    "colab_type": "code",
    "id": "Odt4--t9dg8S"
   },
   "outputs": [],
   "source": [
    "cc_percentage_do_clustering = cluster_base_cc_do / cluster_base_daily_do"
   ]
  },
  {
   "cell_type": "code",
   "execution_count": 0,
   "metadata": {
    "colab": {},
    "colab_type": "code",
    "id": "gIbrmR5Od1Uh"
   },
   "outputs": [],
   "source": [
    "cc_percentage_do_clustering.fillna(0,inplace=True)"
   ]
  },
  {
   "cell_type": "code",
   "execution_count": 0,
   "metadata": {
    "colab": {},
    "colab_type": "code",
    "id": "RcrneEpoeFag"
   },
   "outputs": [],
   "source": [
    "cc_percentage_do_clustering.to_csv('do.csv')"
   ]
  },
  {
   "cell_type": "code",
   "execution_count": 0,
   "metadata": {
    "colab": {
     "base_uri": "https://localhost:8080/",
     "height": 51
    },
    "colab_type": "code",
    "id": "hZjMLQ1SeIwR",
    "outputId": "5a3247eb-c901-4de0-ae01-5eaffcd445d5"
   },
   "outputs": [
    {
     "name": "stdout",
     "output_type": "stream",
     "text": [
      "updating: do.csv (deflated 70%)\n",
      "  adding: po.csv (deflated 71%)\n"
     ]
    }
   ],
   "source": [
    "!zip clusters.zip po.csv do.csv"
   ]
  },
  {
   "cell_type": "code",
   "execution_count": 0,
   "metadata": {
    "colab": {},
    "colab_type": "code",
    "id": "SsafBGoVfNUP"
   },
   "outputs": [],
   "source": [
    "from google.colab import files\n",
    "files.download('clusters.zip')"
   ]
  },
  {
   "cell_type": "markdown",
   "metadata": {
    "colab_type": "text",
    "id": "g4R0DnBeRuSb"
   },
   "source": [
    "# Clustering Monthly Credit Usage:"
   ]
  },
  {
   "cell_type": "markdown",
   "metadata": {
    "colab_type": "text",
    "id": "J4BW1GUcR2iy"
   },
   "source": [
    "### Data Preprocessing Pipeline:"
   ]
  },
  {
   "cell_type": "code",
   "execution_count": 0,
   "metadata": {
    "colab": {},
    "colab_type": "code",
    "id": "GkFu0XL1x-ro"
   },
   "outputs": [],
   "source": [
    "years = ['2018','2017']"
   ]
  },
  {
   "cell_type": "code",
   "execution_count": 0,
   "metadata": {
    "colab": {},
    "colab_type": "code",
    "id": "Vq1ywUTjfUs2"
   },
   "outputs": [],
   "source": [
    "monthly_pu_df = pd.DataFrame()\n",
    "monthly_do_df = pd.DataFrame()"
   ]
  },
  {
   "cell_type": "code",
   "execution_count": 0,
   "metadata": {
    "colab": {},
    "colab_type": "code",
    "id": "Y4rBQA0pyxis"
   },
   "outputs": [],
   "source": [
    "year = '2018'\n",
    "months = ['0' + str(i) if i<10 else str(i) for i in range(1,13)]"
   ]
  },
  {
   "cell_type": "code",
   "execution_count": 0,
   "metadata": {
    "colab": {
     "base_uri": "https://localhost:8080/",
     "height": 34
    },
    "colab_type": "code",
    "id": "GoCxjBzrMhGk",
    "outputId": "59caed89-7dfc-441a-99ef-55625b53db84"
   },
   "outputs": [
    {
     "data": {
      "text/plain": [
       "['01', '02', '03', '04', '05', '06', '07', '08', '09', '10', '11', '12']"
      ]
     },
     "execution_count": 35,
     "metadata": {
      "tags": []
     },
     "output_type": "execute_result"
    }
   ],
   "source": [
    "months"
   ]
  },
  {
   "cell_type": "code",
   "execution_count": 0,
   "metadata": {
    "colab": {
     "base_uri": "https://localhost:8080/",
     "height": 323
    },
    "colab_type": "code",
    "id": "t4LR1lTeuTVn",
    "outputId": "aa583c90-5360-4e24-fd80-c18d503432b1"
   },
   "outputs": [
    {
     "name": "stderr",
     "output_type": "stream",
     "text": [
      "/usr/local/lib/python3.6/dist-packages/ipykernel_launcher.py:6: SettingWithCopyWarning: \n",
      "A value is trying to be set on a copy of a slice from a DataFrame.\n",
      "Try using .loc[row_indexer,col_indexer] = value instead\n",
      "\n",
      "See the caveats in the documentation: http://pandas.pydata.org/pandas-docs/stable/indexing.html#indexing-view-versus-copy\n",
      "  \n"
     ]
    },
    {
     "name": "stdout",
     "output_type": "stream",
     "text": [
      "1\n",
      "2\n",
      "3\n",
      "4\n",
      "5\n",
      "6\n",
      "7\n",
      "8\n",
      "9\n",
      "10\n",
      "11\n",
      "12\n"
     ]
    }
   ],
   "source": [
    "for month in months:\n",
    "  url = 'https://s3.amazonaws.com/nyc-tlc/trip+data/yellow_tripdata_2018-'+ month +'.csv'\n",
    "  df = pd.read_csv(url)\n",
    "  df_subset = df[['PULocationID','tpep_pickup_datetime', 'payment_type','DOLocationID']]\n",
    "  month \n",
    "  df_subset['tpep_pickup_datetime'] = pd.to_datetime(df_subset['tpep_pickup_datetime'])\n",
    "  print(int(month))\n",
    "  df_subset = df_subset[(df_subset['tpep_pickup_datetime'].dt.year == 2018) & (df_subset['tpep_pickup_datetime'].dt.month == int(month))]\n",
    "  df_subset['month'] = df_subset['tpep_pickup_datetime'].dt.month\n",
    "\n",
    "  df_cc = df_subset[df_subset['payment_type'] == 1]\n",
    "  monthly_cc_rides_pu = df_cc[['month','PULocationID','payment_type']].groupby(['month','PULocationID']).count()\n",
    "  monthly_cc_rides_do = df_cc[['month','DOLocationID','payment_type']].groupby(['month','DOLocationID']).count()\n",
    "\n",
    "\n",
    "  #monthly credit card rides:\n",
    "  monthly_rides_pu = df_subset[['month','PULocationID','payment_type']].groupby(['month','PULocationID']).count()\n",
    "  monthly_rides_do = df_subset[['month','DOLocationID','payment_type']].groupby(['month','DOLocationID']).count()\n",
    "\n",
    "  monthly_cc_rides_pu_percentage = monthly_cc_rides_pu / monthly_rides_pu\n",
    "  monthly_cc_rides_do_percentage = monthly_cc_rides_do / monthly_rides_do\n",
    "  monthly_cc_rides_pu_percentage.fillna(0,inplace=True)\n",
    "  monthly_cc_rides_do_percentage.fillna(0,inplace=True)\n",
    "  \n",
    "  column_name = 'payment_' + year + '_' + month\n",
    "  \n",
    "  monthly_cc_rides_pu_percentage.reset_index(inplace=True)\n",
    "  monthly_cc_rides_pu_percentage.drop(['month'],axis=1,inplace=True)\n",
    "  monthly_cc_rides_pu_percentage.set_index('PULocationID',inplace=True)\n",
    "\n",
    "\n",
    "  monthly_cc_rides_do_percentage.reset_index(inplace=True)\n",
    "  monthly_cc_rides_do_percentage.drop(['month'],axis=1,inplace=True)\n",
    "  monthly_cc_rides_do_percentage.set_index('DOLocationID',inplace=True)\n",
    "\n",
    "  \n",
    "  \n",
    "  monthly_cc_rides_do_percentage.rename(columns= {'payment_type': column_name},inplace=True)\n",
    "  monthly_cc_rides_pu_percentage.rename(columns= {'payment_type': column_name},inplace=True)\n",
    "  \n",
    "  monthly_cc_rides_do_percentage.fillna(0,inplace=True)\n",
    "  monthly_cc_rides_pu_percentage.fillna(0,inplace=True)\n",
    "  \n",
    "  \n",
    "  monthly_pu_df = pd.concat([monthly_pu_df,monthly_cc_rides_pu_percentage],axis=1)\n",
    "  monthly_do_df = pd.concat([monthly_do_df,monthly_cc_rides_do_percentage],axis=1)"
   ]
  }
 ],
 "metadata": {
  "colab": {
   "collapsed_sections": [],
   "name": "tlc_clustering_data.ipynb",
   "provenance": [],
   "version": "0.3.2"
  },
  "kernelspec": {
   "display_name": "Python 3",
   "language": "python",
   "name": "python3"
  },
  "language_info": {
   "codemirror_mode": {
    "name": "ipython",
    "version": 3
   },
   "file_extension": ".py",
   "mimetype": "text/x-python",
   "name": "python",
   "nbconvert_exporter": "python",
   "pygments_lexer": "ipython3",
   "version": "3.7.1"
  }
 },
 "nbformat": 4,
 "nbformat_minor": 1
}
