{
 "cells": [
  {
   "cell_type": "code",
   "execution_count": 1,
   "metadata": {},
   "outputs": [],
   "source": [
    "from matplotlib import pyplot as plt\n",
    "from sklearn.cluster import KMeans\n",
    "from IPython.display import Image\n",
    "import pandas as pd\n",
    "import seaborn as sns\n",
    "import numpy as np\n",
    "sns.set()"
   ]
  },
  {
   "cell_type": "markdown",
   "metadata": {},
   "source": [
    "### Get data from clustering restulrs and combine with ACS data"
   ]
  },
  {
   "cell_type": "code",
   "execution_count": 39,
   "metadata": {},
   "outputs": [],
   "source": [
    "#Clustering result\n",
    "cc_d = pd.read_csv('cc_d_clusters.csv')"
   ]
  },
  {
   "cell_type": "code",
   "execution_count": 14,
   "metadata": {},
   "outputs": [],
   "source": [
    "#ACS data\n",
    "data = pd.read_csv('test.csv')"
   ]
  },
  {
   "cell_type": "code",
   "execution_count": 16,
   "metadata": {
    "scrolled": true
   },
   "outputs": [
    {
     "data": {
      "text/html": [
       "<div>\n",
       "<style scoped>\n",
       "    .dataframe tbody tr th:only-of-type {\n",
       "        vertical-align: middle;\n",
       "    }\n",
       "\n",
       "    .dataframe tbody tr th {\n",
       "        vertical-align: top;\n",
       "    }\n",
       "\n",
       "    .dataframe thead th {\n",
       "        text-align: right;\n",
       "    }\n",
       "</style>\n",
       "<table border=\"1\" class=\"dataframe\">\n",
       "  <thead>\n",
       "    <tr style=\"text-align: right;\">\n",
       "      <th></th>\n",
       "      <th>DOLocationID</th>\n",
       "      <th>payment_2017_01</th>\n",
       "      <th>payment_2017_02</th>\n",
       "      <th>payment_2017_03</th>\n",
       "      <th>payment_2017_04</th>\n",
       "      <th>payment_2017_05</th>\n",
       "      <th>payment_2017_06</th>\n",
       "      <th>payment_2017_07</th>\n",
       "      <th>payment_2017_08</th>\n",
       "      <th>payment_2017_09</th>\n",
       "      <th>...</th>\n",
       "      <th>payment_2018_04</th>\n",
       "      <th>payment_2018_05</th>\n",
       "      <th>payment_2018_06</th>\n",
       "      <th>payment_2018_07</th>\n",
       "      <th>payment_2018_08</th>\n",
       "      <th>payment_2018_09</th>\n",
       "      <th>payment_2018_10</th>\n",
       "      <th>payment_2018_11</th>\n",
       "      <th>payment_2018_12</th>\n",
       "      <th>k3_labels</th>\n",
       "    </tr>\n",
       "  </thead>\n",
       "  <tbody>\n",
       "    <tr>\n",
       "      <th>0</th>\n",
       "      <td>1</td>\n",
       "      <td>0.773500</td>\n",
       "      <td>0.809257</td>\n",
       "      <td>0.819703</td>\n",
       "      <td>0.789566</td>\n",
       "      <td>0.799558</td>\n",
       "      <td>0.807751</td>\n",
       "      <td>0.764207</td>\n",
       "      <td>0.766567</td>\n",
       "      <td>0.781581</td>\n",
       "      <td>...</td>\n",
       "      <td>0.784376</td>\n",
       "      <td>0.793612</td>\n",
       "      <td>0.809752</td>\n",
       "      <td>0.771895</td>\n",
       "      <td>0.779982</td>\n",
       "      <td>0.797500</td>\n",
       "      <td>0.798682</td>\n",
       "      <td>0.803943</td>\n",
       "      <td>0.778812</td>\n",
       "      <td>0</td>\n",
       "    </tr>\n",
       "    <tr>\n",
       "      <th>1</th>\n",
       "      <td>2</td>\n",
       "      <td>0.750000</td>\n",
       "      <td>0.750000</td>\n",
       "      <td>0.500000</td>\n",
       "      <td>0.500000</td>\n",
       "      <td>0.444444</td>\n",
       "      <td>0.400000</td>\n",
       "      <td>0.333333</td>\n",
       "      <td>0.000000</td>\n",
       "      <td>0.800000</td>\n",
       "      <td>...</td>\n",
       "      <td>0.571429</td>\n",
       "      <td>0.500000</td>\n",
       "      <td>1.000000</td>\n",
       "      <td>0.500000</td>\n",
       "      <td>0.400000</td>\n",
       "      <td>0.428571</td>\n",
       "      <td>1.000000</td>\n",
       "      <td>0.615385</td>\n",
       "      <td>0.727273</td>\n",
       "      <td>2</td>\n",
       "    </tr>\n",
       "    <tr>\n",
       "      <th>2</th>\n",
       "      <td>3</td>\n",
       "      <td>0.480331</td>\n",
       "      <td>0.490486</td>\n",
       "      <td>0.520067</td>\n",
       "      <td>0.510067</td>\n",
       "      <td>0.490231</td>\n",
       "      <td>0.514545</td>\n",
       "      <td>0.479501</td>\n",
       "      <td>0.464481</td>\n",
       "      <td>0.520256</td>\n",
       "      <td>...</td>\n",
       "      <td>0.575563</td>\n",
       "      <td>0.583882</td>\n",
       "      <td>0.606742</td>\n",
       "      <td>0.571678</td>\n",
       "      <td>0.545312</td>\n",
       "      <td>0.574013</td>\n",
       "      <td>0.620035</td>\n",
       "      <td>0.645000</td>\n",
       "      <td>0.685185</td>\n",
       "      <td>2</td>\n",
       "    </tr>\n",
       "    <tr>\n",
       "      <th>3</th>\n",
       "      <td>4</td>\n",
       "      <td>0.650558</td>\n",
       "      <td>0.664240</td>\n",
       "      <td>0.657215</td>\n",
       "      <td>0.657246</td>\n",
       "      <td>0.653265</td>\n",
       "      <td>0.652397</td>\n",
       "      <td>0.646219</td>\n",
       "      <td>0.639608</td>\n",
       "      <td>0.648170</td>\n",
       "      <td>...</td>\n",
       "      <td>0.662457</td>\n",
       "      <td>0.658469</td>\n",
       "      <td>0.660813</td>\n",
       "      <td>0.655350</td>\n",
       "      <td>0.658979</td>\n",
       "      <td>0.670518</td>\n",
       "      <td>0.675637</td>\n",
       "      <td>0.669492</td>\n",
       "      <td>0.651301</td>\n",
       "      <td>0</td>\n",
       "    </tr>\n",
       "    <tr>\n",
       "      <th>4</th>\n",
       "      <td>5</td>\n",
       "      <td>0.655738</td>\n",
       "      <td>0.675000</td>\n",
       "      <td>0.690909</td>\n",
       "      <td>0.680556</td>\n",
       "      <td>0.627451</td>\n",
       "      <td>0.660000</td>\n",
       "      <td>0.600000</td>\n",
       "      <td>0.615385</td>\n",
       "      <td>0.708333</td>\n",
       "      <td>...</td>\n",
       "      <td>0.701754</td>\n",
       "      <td>0.857143</td>\n",
       "      <td>0.810345</td>\n",
       "      <td>0.734694</td>\n",
       "      <td>0.750000</td>\n",
       "      <td>0.791045</td>\n",
       "      <td>0.830986</td>\n",
       "      <td>0.766667</td>\n",
       "      <td>0.829268</td>\n",
       "      <td>0</td>\n",
       "    </tr>\n",
       "  </tbody>\n",
       "</table>\n",
       "<p>5 rows × 26 columns</p>\n",
       "</div>"
      ],
      "text/plain": [
       "   DOLocationID  payment_2017_01  payment_2017_02  payment_2017_03  \\\n",
       "0             1         0.773500         0.809257         0.819703   \n",
       "1             2         0.750000         0.750000         0.500000   \n",
       "2             3         0.480331         0.490486         0.520067   \n",
       "3             4         0.650558         0.664240         0.657215   \n",
       "4             5         0.655738         0.675000         0.690909   \n",
       "\n",
       "   payment_2017_04  payment_2017_05  payment_2017_06  payment_2017_07  \\\n",
       "0         0.789566         0.799558         0.807751         0.764207   \n",
       "1         0.500000         0.444444         0.400000         0.333333   \n",
       "2         0.510067         0.490231         0.514545         0.479501   \n",
       "3         0.657246         0.653265         0.652397         0.646219   \n",
       "4         0.680556         0.627451         0.660000         0.600000   \n",
       "\n",
       "   payment_2017_08  payment_2017_09  ...  payment_2018_04  payment_2018_05  \\\n",
       "0         0.766567         0.781581  ...         0.784376         0.793612   \n",
       "1         0.000000         0.800000  ...         0.571429         0.500000   \n",
       "2         0.464481         0.520256  ...         0.575563         0.583882   \n",
       "3         0.639608         0.648170  ...         0.662457         0.658469   \n",
       "4         0.615385         0.708333  ...         0.701754         0.857143   \n",
       "\n",
       "   payment_2018_06  payment_2018_07  payment_2018_08  payment_2018_09  \\\n",
       "0         0.809752         0.771895         0.779982         0.797500   \n",
       "1         1.000000         0.500000         0.400000         0.428571   \n",
       "2         0.606742         0.571678         0.545312         0.574013   \n",
       "3         0.660813         0.655350         0.658979         0.670518   \n",
       "4         0.810345         0.734694         0.750000         0.791045   \n",
       "\n",
       "   payment_2018_10  payment_2018_11  payment_2018_12  k3_labels  \n",
       "0         0.798682         0.803943         0.778812          0  \n",
       "1         1.000000         0.615385         0.727273          2  \n",
       "2         0.620035         0.645000         0.685185          2  \n",
       "3         0.675637         0.669492         0.651301          0  \n",
       "4         0.830986         0.766667         0.829268          0  \n",
       "\n",
       "[5 rows x 26 columns]"
      ]
     },
     "execution_count": 16,
     "metadata": {},
     "output_type": "execute_result"
    }
   ],
   "source": [
    "cc_d.head()"
   ]
  },
  {
   "cell_type": "code",
   "execution_count": 20,
   "metadata": {},
   "outputs": [
    {
     "data": {
      "text/html": [
       "<div>\n",
       "<style scoped>\n",
       "    .dataframe tbody tr th:only-of-type {\n",
       "        vertical-align: middle;\n",
       "    }\n",
       "\n",
       "    .dataframe tbody tr th {\n",
       "        vertical-align: top;\n",
       "    }\n",
       "\n",
       "    .dataframe thead th {\n",
       "        text-align: right;\n",
       "    }\n",
       "</style>\n",
       "<table border=\"1\" class=\"dataframe\">\n",
       "  <thead>\n",
       "    <tr style=\"text-align: right;\">\n",
       "      <th></th>\n",
       "      <th>Unnamed: 0</th>\n",
       "      <th>zone</th>\n",
       "      <th>DOLocationID</th>\n",
       "      <th>geometry</th>\n",
       "      <th>tripcount</th>\n",
       "      <th>credit_rate</th>\n",
       "      <th>NTAName</th>\n",
       "      <th>income</th>\n",
       "      <th>MaleP</th>\n",
       "      <th>MdAgeE</th>\n",
       "      <th>Degree</th>\n",
       "      <th>barcount</th>\n",
       "    </tr>\n",
       "  </thead>\n",
       "  <tbody>\n",
       "    <tr>\n",
       "      <th>0</th>\n",
       "      <td>0</td>\n",
       "      <td>Astoria Park</td>\n",
       "      <td>8</td>\n",
       "      <td>POLYGON ((-73.92334041500001 40.77512891199992...</td>\n",
       "      <td>1739</td>\n",
       "      <td>0.568143</td>\n",
       "      <td>park-cemetery-etc-Queens</td>\n",
       "      <td>58460.0</td>\n",
       "      <td>57.9</td>\n",
       "      <td>40.8</td>\n",
       "      <td>24.7</td>\n",
       "      <td>1</td>\n",
       "    </tr>\n",
       "    <tr>\n",
       "      <th>1</th>\n",
       "      <td>1</td>\n",
       "      <td>Flushing Meadows-Corona Park</td>\n",
       "      <td>93</td>\n",
       "      <td>POLYGON ((-73.8569635593979 40.76407442786307,...</td>\n",
       "      <td>17290</td>\n",
       "      <td>0.586003</td>\n",
       "      <td>park-cemetery-etc-Queens</td>\n",
       "      <td>58460.0</td>\n",
       "      <td>57.9</td>\n",
       "      <td>40.8</td>\n",
       "      <td>24.7</td>\n",
       "      <td>4</td>\n",
       "    </tr>\n",
       "    <tr>\n",
       "      <th>2</th>\n",
       "      <td>2</td>\n",
       "      <td>Forest Park/Highland Park</td>\n",
       "      <td>96</td>\n",
       "      <td>POLYGON ((-73.83804164799996 40.70832329499993...</td>\n",
       "      <td>1757</td>\n",
       "      <td>0.482072</td>\n",
       "      <td>park-cemetery-etc-Queens</td>\n",
       "      <td>58460.0</td>\n",
       "      <td>57.9</td>\n",
       "      <td>40.8</td>\n",
       "      <td>24.7</td>\n",
       "      <td>1</td>\n",
       "    </tr>\n",
       "    <tr>\n",
       "      <th>3</th>\n",
       "      <td>3</td>\n",
       "      <td>Willets Point</td>\n",
       "      <td>253</td>\n",
       "      <td>POLYGON ((-73.83908354399988 40.7652569129999,...</td>\n",
       "      <td>725</td>\n",
       "      <td>0.390345</td>\n",
       "      <td>park-cemetery-etc-Queens</td>\n",
       "      <td>58460.0</td>\n",
       "      <td>57.9</td>\n",
       "      <td>40.8</td>\n",
       "      <td>24.7</td>\n",
       "      <td>7</td>\n",
       "    </tr>\n",
       "    <tr>\n",
       "      <th>4</th>\n",
       "      <td>4</td>\n",
       "      <td>Allerton/Pelham Gardens</td>\n",
       "      <td>3</td>\n",
       "      <td>POLYGON ((-73.84792614099985 40.8713422339999,...</td>\n",
       "      <td>6968</td>\n",
       "      <td>0.594575</td>\n",
       "      <td>Allerton-Pelham Gardens</td>\n",
       "      <td>59992.0</td>\n",
       "      <td>46.9</td>\n",
       "      <td>40.7</td>\n",
       "      <td>25.8</td>\n",
       "      <td>30</td>\n",
       "    </tr>\n",
       "  </tbody>\n",
       "</table>\n",
       "</div>"
      ],
      "text/plain": [
       "   Unnamed: 0                          zone  DOLocationID  \\\n",
       "0           0                  Astoria Park             8   \n",
       "1           1  Flushing Meadows-Corona Park            93   \n",
       "2           2     Forest Park/Highland Park            96   \n",
       "3           3                 Willets Point           253   \n",
       "4           4       Allerton/Pelham Gardens             3   \n",
       "\n",
       "                                            geometry  tripcount  credit_rate  \\\n",
       "0  POLYGON ((-73.92334041500001 40.77512891199992...       1739     0.568143   \n",
       "1  POLYGON ((-73.8569635593979 40.76407442786307,...      17290     0.586003   \n",
       "2  POLYGON ((-73.83804164799996 40.70832329499993...       1757     0.482072   \n",
       "3  POLYGON ((-73.83908354399988 40.7652569129999,...        725     0.390345   \n",
       "4  POLYGON ((-73.84792614099985 40.8713422339999,...       6968     0.594575   \n",
       "\n",
       "                    NTAName   income  MaleP  MdAgeE  Degree  barcount  \n",
       "0  park-cemetery-etc-Queens  58460.0   57.9    40.8    24.7         1  \n",
       "1  park-cemetery-etc-Queens  58460.0   57.9    40.8    24.7         4  \n",
       "2  park-cemetery-etc-Queens  58460.0   57.9    40.8    24.7         1  \n",
       "3  park-cemetery-etc-Queens  58460.0   57.9    40.8    24.7         7  \n",
       "4   Allerton-Pelham Gardens  59992.0   46.9    40.7    25.8        30  "
      ]
     },
     "execution_count": 20,
     "metadata": {},
     "output_type": "execute_result"
    }
   ],
   "source": [
    "data.head()"
   ]
  },
  {
   "cell_type": "code",
   "execution_count": 46,
   "metadata": {},
   "outputs": [],
   "source": [
    "data = data.drop(columns={'Unnamed: 0'})"
   ]
  },
  {
   "cell_type": "markdown",
   "metadata": {},
   "source": [
    "### Find dismatch between 2 datasets"
   ]
  },
  {
   "cell_type": "code",
   "execution_count": 21,
   "metadata": {},
   "outputs": [
    {
     "data": {
      "text/plain": [
       "(250, 12)"
      ]
     },
     "execution_count": 21,
     "metadata": {},
     "output_type": "execute_result"
    }
   ],
   "source": [
    "data.shape"
   ]
  },
  {
   "cell_type": "code",
   "execution_count": 23,
   "metadata": {},
   "outputs": [
    {
     "data": {
      "text/plain": [
       "(264, 26)"
      ]
     },
     "execution_count": 23,
     "metadata": {},
     "output_type": "execute_result"
    }
   ],
   "source": [
    "cc_d.shape"
   ]
  },
  {
   "cell_type": "code",
   "execution_count": 24,
   "metadata": {},
   "outputs": [],
   "source": [
    "cc_d_zone = list(cc_d['DOLocationID'].unique())"
   ]
  },
  {
   "cell_type": "code",
   "execution_count": 122,
   "metadata": {},
   "outputs": [
    {
     "data": {
      "text/plain": [
       "264"
      ]
     },
     "execution_count": 122,
     "metadata": {},
     "output_type": "execute_result"
    }
   ],
   "source": [
    "len(cc_d_zone)"
   ]
  },
  {
   "cell_type": "code",
   "execution_count": 25,
   "metadata": {},
   "outputs": [],
   "source": [
    "data_zone = list(data['DOLocationID'].unique())"
   ]
  },
  {
   "cell_type": "code",
   "execution_count": 28,
   "metadata": {},
   "outputs": [
    {
     "name": "stdout",
     "output_type": "stream",
     "text": [
      "[1, 2, 46, 57, 59, 104, 105, 110, 111, 194, 199, 207, 264, 265]\n"
     ]
    }
   ],
   "source": [
    "result = set(cc_d_zone) - set(data_zone) \n",
    "print(sorted(result)) "
   ]
  },
  {
   "cell_type": "markdown",
   "metadata": {},
   "source": [
    "### Visulize the clustering results"
   ]
  },
  {
   "cell_type": "code",
   "execution_count": 3,
   "metadata": {},
   "outputs": [
    {
     "data": {
      "text/plain": [
       "<matplotlib.legend.Legend at 0x104853358>"
      ]
     },
     "execution_count": 3,
     "metadata": {},
     "output_type": "execute_result"
    },
    {
     "data": {
      "image/png": "[encoded data removed]",
      "text/plain": [
       "<Figure size 720x576 with 1 Axes>"
      ]
     },
     "metadata": {
      "needs_background": "light"
     },
     "output_type": "display_data"
    }
   ],
   "source": [
    "fig,ax = plt.subplots(figsize=(10,8))\n",
    "\n",
    "cc_d[cc_d['k3_labels']== 0 ].loc[:,\"payment_2017_01\":\"payment_2018_12\"].mean().plot(ax=ax,label='Cluster_0')\n",
    "cc_d[cc_d['k3_labels']== 1 ].loc[:,\"payment_2017_01\":\"payment_2018_12\"].mean().plot(ax=ax,label='Cluster_1')\n",
    "cc_d[cc_d['k3_labels']== 2 ].loc[:,\"payment_2017_01\":\"payment_2018_12\"].mean().plot(ax=ax,label='Cluster_2')\n",
    "cc_d[cc_d['k3_labels']== 3 ].loc[:,\"payment_2017_01\":\"payment_2018_12\"].mean().plot(ax=ax,label='Cluster_3')\n",
    "plt.legend()"
   ]
  },
  {
   "cell_type": "markdown",
   "metadata": {},
   "source": [
    "Cluster 0, 1, and 2 have a slightly increasing trend, while the cluster 3 behaves weired with many ups and downs."
   ]
  },
  {
   "cell_type": "code",
   "execution_count": 4,
   "metadata": {},
   "outputs": [],
   "source": [
    "import geopandas as gpd"
   ]
  },
  {
   "cell_type": "code",
   "execution_count": 117,
   "metadata": {},
   "outputs": [],
   "source": [
    "gdf = gpd.read_file('../FHV/taxi_zones/taxi_zones.shp')"
   ]
  },
  {
   "cell_type": "code",
   "execution_count": 116,
   "metadata": {},
   "outputs": [],
   "source": [
    "gdf.set_index('LocationID',inplace=True)"
   ]
  },
  {
   "cell_type": "code",
   "execution_count": 118,
   "metadata": {},
   "outputs": [],
   "source": [
    "gdf = gdf.rename(columns={'LocationID':'DOLocationID'})"
   ]
  },
  {
   "cell_type": "code",
   "execution_count": 125,
   "metadata": {},
   "outputs": [],
   "source": [
    "gdf_zone = list(gdf['DOLocationID'].unique())"
   ]
  },
  {
   "cell_type": "code",
   "execution_count": 132,
   "metadata": {},
   "outputs": [
    {
     "name": "stdout",
     "output_type": "stream",
     "text": [
      "[57, 104, 105, 264, 265]\n"
     ]
    }
   ],
   "source": [
    "#Discrepency between shapefile and cc_d\n",
    "result = set(cc_d_zone) - set(gdf_zone) \n",
    "print(sorted(result)) "
   ]
  },
  {
   "cell_type": "code",
   "execution_count": 119,
   "metadata": {},
   "outputs": [],
   "source": [
    "merged_gdf = gdf.merge(cc_d,on='DOLocationID')"
   ]
  },
  {
   "cell_type": "code",
   "execution_count": 131,
   "metadata": {},
   "outputs": [
    {
     "data": {
      "text/plain": [
       "(260, 32)"
      ]
     },
     "execution_count": 131,
     "metadata": {},
     "output_type": "execute_result"
    }
   ],
   "source": [
    "merged_gdf.shape"
   ]
  },
  {
   "cell_type": "code",
   "execution_count": 130,
   "metadata": {},
   "outputs": [
    {
     "data": {
      "text/plain": [
       "<matplotlib.axes._subplots.AxesSubplot at 0x1a25c99d68>"
      ]
     },
     "execution_count": 130,
     "metadata": {},
     "output_type": "execute_result"
    },
    {
     "data": {
      "image/png": "[encoded data removed]",
      "text/plain": [
       "<Figure size 720x576 with 1 Axes>"
      ]
     },
     "metadata": {
      "needs_background": "light"
     },
     "output_type": "display_data"
    }
   ],
   "source": [
    "fig,ax = plt.subplots(figsize=(10,8))\n",
    "merged_gdf.plot(ax=ax, column='k3_labels',cmap='viridis',figsize=(20,20),legend=True,label='clusters',edgecolor='black' ,linewidth=0.5,categorical=True)"
   ]
  },
  {
   "cell_type": "markdown",
   "metadata": {},
   "source": [
    "- Cluster 0 covers midtown and downtown Manhattan, as well as downtown Brooklyn. Thoes areas have the highest credit card usage rate. \n",
    "- Cluster 2 has the second highest rate of credit card usage. It includes areas including upper Manhattan, Long Island, Astoria, and central Queens. \n",
    "- Cluster 1 has the third highest rate of credit card usage.It includes some remote areas in Queens, and Morrisania in Bronx. \n",
    "- Cluster 3 only have 4 areas according to the map. Most of them are non-redisdential areas like cemetery and parks. They are apprently outliers."
   ]
  },
  {
   "cell_type": "markdown",
   "metadata": {},
   "source": [
    "### Clustering analysis"
   ]
  },
  {
   "cell_type": "markdown",
   "metadata": {},
   "source": [
    " - Investigate the differences within 3 clusters based on:\n",
    "     - trip count\n",
    "     - income\n",
    "     - Male population\n",
    "     - Median age\n",
    "     - Educational degree\n",
    "     - Number of liquors vendors (bars, resturants...)"
   ]
  },
  {
   "cell_type": "markdown",
   "metadata": {},
   "source": [
    "#### TripCount"
   ]
  },
  {
   "cell_type": "code",
   "execution_count": 157,
   "metadata": {},
   "outputs": [
    {
     "data": {
      "text/plain": [
       "count    9.500000e+01\n",
       "mean     8.242735e+05\n",
       "std      1.019444e+06\n",
       "min      5.370000e+02\n",
       "25%      7.387100e+04\n",
       "50%      2.955650e+05\n",
       "75%      1.366020e+06\n",
       "max      3.961493e+06\n",
       "Name: tripcount, dtype: float64"
      ]
     },
     "execution_count": 157,
     "metadata": {},
     "output_type": "execute_result"
    }
   ],
   "source": [
    "cc_data[cc_data['k3_labels'] == 0]['tripcount'].describe()"
   ]
  },
  {
   "cell_type": "code",
   "execution_count": 159,
   "metadata": {},
   "outputs": [
    {
     "data": {
      "text/plain": [
       "count        73.000000\n",
       "mean      23293.753425\n",
       "std       27369.035324\n",
       "min          53.000000\n",
       "25%        9278.000000\n",
       "50%       14193.000000\n",
       "75%       27435.000000\n",
       "max      172401.000000\n",
       "Name: tripcount, dtype: float64"
      ]
     },
     "execution_count": 159,
     "metadata": {},
     "output_type": "execute_result"
    }
   ],
   "source": [
    "cc_data[cc_data['k3_labels'] == 1]['tripcount'].describe()"
   ]
  },
  {
   "cell_type": "code",
   "execution_count": 161,
   "metadata": {},
   "outputs": [
    {
     "data": {
      "text/plain": [
       "count    8.100000e+01\n",
       "mean     2.493281e+05\n",
       "std      6.473353e+05\n",
       "min      5.830000e+02\n",
       "25%      6.799000e+03\n",
       "50%      1.398400e+04\n",
       "75%      4.247200e+04\n",
       "max      3.155852e+06\n",
       "Name: tripcount, dtype: float64"
      ]
     },
     "execution_count": 161,
     "metadata": {},
     "output_type": "execute_result"
    }
   ],
   "source": [
    "cc_data[cc_data['k3_labels'] == 2]['tripcount'].describe()"
   ]
  },
  {
   "cell_type": "markdown",
   "metadata": {},
   "source": [
    "#### Obervation: \n",
    "- The mean trip count for cluster 0 is 824873\n",
    "- The mean trip count for cluster 2 is 249328\n",
    "- The mean trip count for cluster 1 is 23293\n",
    "- The is a positive correlation between credit card usage and the average number of trip count for 3 clusters."
   ]
  },
  {
   "cell_type": "markdown",
   "metadata": {},
   "source": [
    "#### Median Household Income"
   ]
  },
  {
   "cell_type": "code",
   "execution_count": 180,
   "metadata": {},
   "outputs": [
    {
     "data": {
      "text/plain": [
       "count        92.000000\n",
       "mean      90076.663043\n",
       "std       29722.991151\n",
       "min       31180.000000\n",
       "25%       68537.500000\n",
       "50%       93973.500000\n",
       "75%      116208.250000\n",
       "max      155786.000000\n",
       "Name: income, dtype: float64"
      ]
     },
     "execution_count": 180,
     "metadata": {},
     "output_type": "execute_result"
    }
   ],
   "source": [
    "cc_data[cc_data['k3_labels'] == 0]['income'].describe()"
   ]
  },
  {
   "cell_type": "code",
   "execution_count": 181,
   "metadata": {},
   "outputs": [
    {
     "data": {
      "text/plain": [
       "count        72.000000\n",
       "mean      48630.875000\n",
       "std       20079.875703\n",
       "min       21369.000000\n",
       "25%       29104.750000\n",
       "50%       46177.500000\n",
       "75%       62693.250000\n",
       "max      102205.000000\n",
       "Name: income, dtype: float64"
      ]
     },
     "execution_count": 181,
     "metadata": {},
     "output_type": "execute_result"
    }
   ],
   "source": [
    "cc_data[cc_data['k3_labels'] == 1]['income'].describe()"
   ]
  },
  {
   "cell_type": "code",
   "execution_count": 182,
   "metadata": {},
   "outputs": [
    {
     "data": {
      "text/plain": [
       "count        79.000000\n",
       "mean      59049.443038\n",
       "std       20952.549519\n",
       "min       24727.000000\n",
       "25%       46247.000000\n",
       "50%       55814.000000\n",
       "75%       70202.500000\n",
       "max      116456.000000\n",
       "Name: income, dtype: float64"
      ]
     },
     "execution_count": 182,
     "metadata": {},
     "output_type": "execute_result"
    }
   ],
   "source": [
    "cc_data[cc_data['k3_labels'] == 2]['income'].describe()"
   ]
  },
  {
   "cell_type": "markdown",
   "metadata": {},
   "source": [
    "#### Obervation: \n",
    "- The average median household income for cluster 0 is 90076\n",
    "- The average median household income for cluster 2 is 59049\n",
    "- The average median household income for cluster 1 is 48630\n",
    "- The is a positive correlation between credit card usage and the average median household income  for 3 clusters."
   ]
  },
  {
   "cell_type": "markdown",
   "metadata": {},
   "source": [
    "##### MaleP"
   ]
  },
  {
   "cell_type": "code",
   "execution_count": 184,
   "metadata": {},
   "outputs": [
    {
     "data": {
      "text/plain": [
       "count    93.000000\n",
       "mean     48.490323\n",
       "std       5.088458\n",
       "min      39.900000\n",
       "25%      46.000000\n",
       "50%      48.100000\n",
       "75%      49.700000\n",
       "max      87.800000\n",
       "Name: MaleP, dtype: float64"
      ]
     },
     "execution_count": 184,
     "metadata": {},
     "output_type": "execute_result"
    }
   ],
   "source": [
    "cc_data[cc_data['k3_labels'] == 0]['MaleP'].describe()"
   ]
  },
  {
   "cell_type": "code",
   "execution_count": 185,
   "metadata": {},
   "outputs": [
    {
     "data": {
      "text/plain": [
       "count    73.000000\n",
       "mean     48.231507\n",
       "std       5.753281\n",
       "min      39.300000\n",
       "25%      46.000000\n",
       "50%      47.700000\n",
       "75%      49.200000\n",
       "max      87.800000\n",
       "Name: MaleP, dtype: float64"
      ]
     },
     "execution_count": 185,
     "metadata": {},
     "output_type": "execute_result"
    }
   ],
   "source": [
    "cc_data[cc_data['k3_labels'] == 1]['MaleP'].describe()"
   ]
  },
  {
   "cell_type": "code",
   "execution_count": 186,
   "metadata": {},
   "outputs": [
    {
     "data": {
      "text/plain": [
       "count    81.000000\n",
       "mean     49.255556\n",
       "std       6.703301\n",
       "min      42.900000\n",
       "25%      46.400000\n",
       "50%      48.300000\n",
       "75%      49.600000\n",
       "max      87.800000\n",
       "Name: MaleP, dtype: float64"
      ]
     },
     "execution_count": 186,
     "metadata": {},
     "output_type": "execute_result"
    }
   ],
   "source": [
    "cc_data[cc_data['k3_labels'] == 2]['MaleP'].describe()"
   ]
  },
  {
   "cell_type": "markdown",
   "metadata": {},
   "source": [
    "#### Observation: \n",
    "There is no correlation between age and clusters."
   ]
  },
  {
   "cell_type": "markdown",
   "metadata": {},
   "source": [
    "#### MdAgeE"
   ]
  },
  {
   "cell_type": "code",
   "execution_count": 190,
   "metadata": {},
   "outputs": [
    {
     "data": {
      "text/plain": [
       "count    93.000000\n",
       "mean     36.993548\n",
       "std       4.194168\n",
       "min      29.100000\n",
       "25%      34.100000\n",
       "50%      36.500000\n",
       "75%      40.000000\n",
       "max      50.900000\n",
       "Name: MdAgeE, dtype: float64"
      ]
     },
     "execution_count": 190,
     "metadata": {},
     "output_type": "execute_result"
    }
   ],
   "source": [
    "cc_data[cc_data['k3_labels'] == 0]['MdAgeE'].describe()"
   ]
  },
  {
   "cell_type": "code",
   "execution_count": 191,
   "metadata": {},
   "outputs": [
    {
     "data": {
      "text/plain": [
       "count    73.000000\n",
       "mean     36.178082\n",
       "std       5.436968\n",
       "min      19.300000\n",
       "25%      32.300000\n",
       "50%      35.600000\n",
       "75%      39.000000\n",
       "max      50.900000\n",
       "Name: MdAgeE, dtype: float64"
      ]
     },
     "execution_count": 191,
     "metadata": {},
     "output_type": "execute_result"
    }
   ],
   "source": [
    "cc_data[cc_data['k3_labels'] == 1]['MdAgeE'].describe()"
   ]
  },
  {
   "cell_type": "code",
   "execution_count": 192,
   "metadata": {},
   "outputs": [
    {
     "data": {
      "text/plain": [
       "count    81.000000\n",
       "mean     38.239506\n",
       "std       5.105479\n",
       "min      25.100000\n",
       "25%      34.400000\n",
       "50%      37.500000\n",
       "75%      41.600000\n",
       "max      50.900000\n",
       "Name: MdAgeE, dtype: float64"
      ]
     },
     "execution_count": 192,
     "metadata": {},
     "output_type": "execute_result"
    }
   ],
   "source": [
    "cc_data[cc_data['k3_labels'] == 2]['MdAgeE'].describe()"
   ]
  },
  {
   "cell_type": "markdown",
   "metadata": {},
   "source": [
    "#### Observation: \n",
    "There is no correlation between age and clusters."
   ]
  },
  {
   "cell_type": "markdown",
   "metadata": {},
   "source": [
    "#### Educational Degree (%)"
   ]
  },
  {
   "cell_type": "code",
   "execution_count": 194,
   "metadata": {},
   "outputs": [
    {
     "data": {
      "text/plain": [
       "count    93.000000\n",
       "mean     59.459140\n",
       "std      21.334088\n",
       "min       6.100000\n",
       "25%      36.300000\n",
       "50%      64.700000\n",
       "75%      78.300000\n",
       "max      84.600000\n",
       "Name: Degree, dtype: float64"
      ]
     },
     "execution_count": 194,
     "metadata": {},
     "output_type": "execute_result"
    }
   ],
   "source": [
    "cc_data[cc_data['k3_labels'] == 0]['Degree'].describe()"
   ]
  },
  {
   "cell_type": "code",
   "execution_count": 196,
   "metadata": {},
   "outputs": [
    {
     "data": {
      "text/plain": [
       "count    73.000000\n",
       "mean     21.101370\n",
       "std       9.092205\n",
       "min       6.100000\n",
       "25%      14.100000\n",
       "50%      21.300000\n",
       "75%      25.800000\n",
       "max      63.300000\n",
       "Name: Degree, dtype: float64"
      ]
     },
     "execution_count": 196,
     "metadata": {},
     "output_type": "execute_result"
    }
   ],
   "source": [
    "cc_data[cc_data['k3_labels'] == 1]['Degree'].describe()"
   ]
  },
  {
   "cell_type": "code",
   "execution_count": 197,
   "metadata": {},
   "outputs": [
    {
     "data": {
      "text/plain": [
       "count    81.000000\n",
       "mean     35.214815\n",
       "std      14.828917\n",
       "min       6.100000\n",
       "25%      25.700000\n",
       "50%      33.000000\n",
       "75%      42.400000\n",
       "max      78.300000\n",
       "Name: Degree, dtype: float64"
      ]
     },
     "execution_count": 197,
     "metadata": {},
     "output_type": "execute_result"
    }
   ],
   "source": [
    "cc_data[cc_data['k3_labels'] == 2]['Degree'].describe()"
   ]
  },
  {
   "cell_type": "markdown",
   "metadata": {},
   "source": [
    "#### Obervation: \n",
    "- The percentage of population having educational degree for cluster 0 is 59%\n",
    "- The percentage of population having educational degree for cluster 2 is 35%\n",
    "- The percentage of population having educational degree for cluster 1 is 21%\n",
    "- The is a positive correlation between credit card usage and the percentage of population having educational degree for 3 clusters."
   ]
  },
  {
   "cell_type": "markdown",
   "metadata": {},
   "source": [
    "#### barcount"
   ]
  },
  {
   "cell_type": "code",
   "execution_count": 199,
   "metadata": {},
   "outputs": [
    {
     "data": {
      "text/plain": [
       "count     95.000000\n",
       "mean     106.494737\n",
       "std       79.315807\n",
       "min        1.000000\n",
       "25%       47.000000\n",
       "50%       85.000000\n",
       "75%      150.000000\n",
       "max      481.000000\n",
       "Name: barcount, dtype: float64"
      ]
     },
     "execution_count": 199,
     "metadata": {},
     "output_type": "execute_result"
    }
   ],
   "source": [
    "cc_data[cc_data['k3_labels'] == 0]['barcount'].describe()"
   ]
  },
  {
   "cell_type": "code",
   "execution_count": 200,
   "metadata": {},
   "outputs": [
    {
     "data": {
      "text/plain": [
       "count     73.000000\n",
       "mean      56.575342\n",
       "std       42.288663\n",
       "min        1.000000\n",
       "25%       27.000000\n",
       "50%       49.000000\n",
       "75%       68.000000\n",
       "max      198.000000\n",
       "Name: barcount, dtype: float64"
      ]
     },
     "execution_count": 200,
     "metadata": {},
     "output_type": "execute_result"
    }
   ],
   "source": [
    "cc_data[cc_data['k3_labels'] == 1]['barcount'].describe()"
   ]
  },
  {
   "cell_type": "code",
   "execution_count": 201,
   "metadata": {},
   "outputs": [
    {
     "data": {
      "text/plain": [
       "count     81.000000\n",
       "mean      65.962963\n",
       "std       62.468681\n",
       "min        1.000000\n",
       "25%       30.000000\n",
       "50%       50.000000\n",
       "75%       85.000000\n",
       "max      343.000000\n",
       "Name: barcount, dtype: float64"
      ]
     },
     "execution_count": 201,
     "metadata": {},
     "output_type": "execute_result"
    }
   ],
   "source": [
    "cc_data[cc_data['k3_labels'] == 2]['barcount'].describe()"
   ]
  },
  {
   "cell_type": "markdown",
   "metadata": {},
   "source": [
    "#### Obervation: \n",
    "- The average number of liquor vendors for cluster 0 is 106\n",
    "- The average number of liquor vendors for cluster 2 is 65\n",
    "- The average number of liquor vendors for cluster 1 is 56\n",
    "- The is a positive correlation between credit card usage and average number of liquor vendors for 3 clusters."
   ]
  }
 ],
 "metadata": {
  "kernelspec": {
   "display_name": "Python 3",
   "language": "python",
   "name": "python3"
  },
  "language_info": {
   "codemirror_mode": {
    "name": "ipython",
    "version": 3
   },
   "file_extension": ".py",
   "mimetype": "text/x-python",
   "name": "python",
   "nbconvert_exporter": "python",
   "pygments_lexer": "ipython3",
   "version": "3.7.1"
  }
 },
 "nbformat": 4,
 "nbformat_minor": 2
}
